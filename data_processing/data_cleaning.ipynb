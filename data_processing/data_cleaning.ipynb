{
 "cells": [
  {
   "cell_type": "markdown",
   "source": [
    "# II. Data Cleaning"
   ],
   "metadata": {
    "collapsed": false,
    "pycharm": {
     "name": "#%% md\n"
    }
   }
  },
  {
   "cell_type": "code",
   "execution_count": 30,
   "metadata": {
    "collapsed": true
   },
   "outputs": [
    {
     "data": {
      "text/plain": "                  created_at       user_name  \\\n0  2022-03-26 20:58:32+00:00     Miguel_Egea   \n1  2022-03-25 23:43:35+00:00   JoshSearlesWx   \n2  2022-03-25 09:16:06+00:00  albertpallares   \n3  2022-03-23 17:34:43+00:00   johnmorgan726   \n4  2022-03-23 11:55:06+00:00       EazyCadet   \n\n                                         description            user_location  \\\n0  Segunda estrella a la derecha y todo recto has...                Cartagena   \n1  Meteorologist woking in global shipping operat...            New York, USA   \n2  Professional especialitzat en el Transport Mar...        Travelling a lot    \n3  I enjoy HAM radio, fishing, and maritime traff...       Virginia Beach, VA   \n4  'The Eazy Cadet' is an online resource centre ...  England, United Kingdom   \n\n                                                text language  \\\n0  @johnmorgan726 #ContainerShip + Clouds 📸 🥰 🔝🔝🔝...       en   \n1  Just caught the MSC Ludovica passing through T...       en   \n2  Silverstream air bubble tech for 16,000 TEU co...       en   \n3  The HSL NIKE, IMO:9301457 en route to New York...       en   \n4  Silverstream air bubble tech for 16,000 TEU co...       en   \n\n                                      hashtags  \\\n0                            ['ContainerShip']   \n1                ['shipping', 'containership']   \n2                                          NaN   \n3  ['HSLNike', 'ContainerShip', 'ShipsInPics']   \n4                                          NaN   \n\n                                           media_url  \\\n0  ['https://pbs.twimg.com/tweet_video_thumb/FOze...   \n1  ['https://pbs.twimg.com/media/FOu6bsWWQAY3HpF....   \n2  ['https://pbs.twimg.com/media/FOrz4vMVEAIh0Ik....   \n3  ['https://pbs.twimg.com/media/FOjS1FAXsAMl-cl....   \n4  ['https://pbs.twimg.com/media/FOiFGQzVsAIXtRV....   \n\n                                               place  \n0                                                NaN  \n1                                                NaN  \n2                                                NaN  \n3  Place(_api=<tweepy.api.API object at 0x0000025...  \n4                                                NaN  ",
      "text/html": "<div>\n<style scoped>\n    .dataframe tbody tr th:only-of-type {\n        vertical-align: middle;\n    }\n\n    .dataframe tbody tr th {\n        vertical-align: top;\n    }\n\n    .dataframe thead th {\n        text-align: right;\n    }\n</style>\n<table border=\"1\" class=\"dataframe\">\n  <thead>\n    <tr style=\"text-align: right;\">\n      <th></th>\n      <th>created_at</th>\n      <th>user_name</th>\n      <th>description</th>\n      <th>user_location</th>\n      <th>text</th>\n      <th>language</th>\n      <th>hashtags</th>\n      <th>media_url</th>\n      <th>place</th>\n    </tr>\n  </thead>\n  <tbody>\n    <tr>\n      <th>0</th>\n      <td>2022-03-26 20:58:32+00:00</td>\n      <td>Miguel_Egea</td>\n      <td>Segunda estrella a la derecha y todo recto has...</td>\n      <td>Cartagena</td>\n      <td>@johnmorgan726 #ContainerShip + Clouds 📸 🥰 🔝🔝🔝...</td>\n      <td>en</td>\n      <td>['ContainerShip']</td>\n      <td>['https://pbs.twimg.com/tweet_video_thumb/FOze...</td>\n      <td>NaN</td>\n    </tr>\n    <tr>\n      <th>1</th>\n      <td>2022-03-25 23:43:35+00:00</td>\n      <td>JoshSearlesWx</td>\n      <td>Meteorologist woking in global shipping operat...</td>\n      <td>New York, USA</td>\n      <td>Just caught the MSC Ludovica passing through T...</td>\n      <td>en</td>\n      <td>['shipping', 'containership']</td>\n      <td>['https://pbs.twimg.com/media/FOu6bsWWQAY3HpF....</td>\n      <td>NaN</td>\n    </tr>\n    <tr>\n      <th>2</th>\n      <td>2022-03-25 09:16:06+00:00</td>\n      <td>albertpallares</td>\n      <td>Professional especialitzat en el Transport Mar...</td>\n      <td>Travelling a lot</td>\n      <td>Silverstream air bubble tech for 16,000 TEU co...</td>\n      <td>en</td>\n      <td>NaN</td>\n      <td>['https://pbs.twimg.com/media/FOrz4vMVEAIh0Ik....</td>\n      <td>NaN</td>\n    </tr>\n    <tr>\n      <th>3</th>\n      <td>2022-03-23 17:34:43+00:00</td>\n      <td>johnmorgan726</td>\n      <td>I enjoy HAM radio, fishing, and maritime traff...</td>\n      <td>Virginia Beach, VA</td>\n      <td>The HSL NIKE, IMO:9301457 en route to New York...</td>\n      <td>en</td>\n      <td>['HSLNike', 'ContainerShip', 'ShipsInPics']</td>\n      <td>['https://pbs.twimg.com/media/FOjS1FAXsAMl-cl....</td>\n      <td>Place(_api=&lt;tweepy.api.API object at 0x0000025...</td>\n    </tr>\n    <tr>\n      <th>4</th>\n      <td>2022-03-23 11:55:06+00:00</td>\n      <td>EazyCadet</td>\n      <td>'The Eazy Cadet' is an online resource centre ...</td>\n      <td>England, United Kingdom</td>\n      <td>Silverstream air bubble tech for 16,000 TEU co...</td>\n      <td>en</td>\n      <td>NaN</td>\n      <td>['https://pbs.twimg.com/media/FOiFGQzVsAIXtRV....</td>\n      <td>NaN</td>\n    </tr>\n  </tbody>\n</table>\n</div>"
     },
     "execution_count": 30,
     "metadata": {},
     "output_type": "execute_result"
    }
   ],
   "source": [
    "import os, glob\n",
    "import pandas as pd\n",
    "\n",
    "# Merge tweets\n",
    "path = \"C:/Users/tivon/projects/twitter_project/data/\"\n",
    "\n",
    "all_files = glob.glob(os.path.join(path, \"*.csv\"))\n",
    "all_tweets = (pd.read_csv(f, sep=',') for f in all_files)\n",
    "\n",
    "merged_tweets = pd.concat(all_tweets, ignore_index=True)\n",
    "merged_tweets.head()"
   ]
  },
  {
   "cell_type": "code",
   "execution_count": 31,
   "outputs": [
    {
     "data": {
      "text/plain": "                  created_at       user_name  \\\n0  2022-03-26 20:58:32+00:00     Miguel_Egea   \n1  2022-03-25 23:43:35+00:00   JoshSearlesWx   \n2  2022-03-25 09:16:06+00:00  albertpallares   \n3  2022-03-23 17:34:43+00:00   johnmorgan726   \n4  2022-03-23 11:55:06+00:00       EazyCadet   \n\n                                         description            user_location  \\\n0  Segunda estrella a la derecha y todo recto has...                Cartagena   \n1  Meteorologist woking in global shipping operat...            New York, USA   \n2  Professional especialitzat en el Transport Mar...        Travelling a lot    \n3  I enjoy HAM radio, fishing, and maritime traff...       Virginia Beach, VA   \n4  'The Eazy Cadet' is an online resource centre ...  England, United Kingdom   \n\n                                                text language  \\\n0  @johnmorgan726 #ContainerShip + Clouds 📸 🥰 🔝🔝🔝...       en   \n1  Just caught the MSC Ludovica passing through T...       en   \n2  Silverstream air bubble tech for 16,000 TEU co...       en   \n3  The HSL NIKE, IMO:9301457 en route to New York...       en   \n4  Silverstream air bubble tech for 16,000 TEU co...       en   \n\n                                      hashtags  \\\n0                            ['ContainerShip']   \n1                ['shipping', 'containership']   \n2                                          NaN   \n3  ['HSLNike', 'ContainerShip', 'ShipsInPics']   \n4                                          NaN   \n\n                                           media_url  \\\n0  ['https://pbs.twimg.com/tweet_video_thumb/FOze...   \n1  ['https://pbs.twimg.com/media/FOu6bsWWQAY3HpF....   \n2  ['https://pbs.twimg.com/media/FOrz4vMVEAIh0Ik....   \n3  ['https://pbs.twimg.com/media/FOjS1FAXsAMl-cl....   \n4  ['https://pbs.twimg.com/media/FOiFGQzVsAIXtRV....   \n\n                                               place  \n0                                                NaN  \n1                                                NaN  \n2                                                NaN  \n3  Place(_api=<tweepy.api.API object at 0x0000025...  \n4                                                NaN  ",
      "text/html": "<div>\n<style scoped>\n    .dataframe tbody tr th:only-of-type {\n        vertical-align: middle;\n    }\n\n    .dataframe tbody tr th {\n        vertical-align: top;\n    }\n\n    .dataframe thead th {\n        text-align: right;\n    }\n</style>\n<table border=\"1\" class=\"dataframe\">\n  <thead>\n    <tr style=\"text-align: right;\">\n      <th></th>\n      <th>created_at</th>\n      <th>user_name</th>\n      <th>description</th>\n      <th>user_location</th>\n      <th>text</th>\n      <th>language</th>\n      <th>hashtags</th>\n      <th>media_url</th>\n      <th>place</th>\n    </tr>\n  </thead>\n  <tbody>\n    <tr>\n      <th>0</th>\n      <td>2022-03-26 20:58:32+00:00</td>\n      <td>Miguel_Egea</td>\n      <td>Segunda estrella a la derecha y todo recto has...</td>\n      <td>Cartagena</td>\n      <td>@johnmorgan726 #ContainerShip + Clouds 📸 🥰 🔝🔝🔝...</td>\n      <td>en</td>\n      <td>['ContainerShip']</td>\n      <td>['https://pbs.twimg.com/tweet_video_thumb/FOze...</td>\n      <td>NaN</td>\n    </tr>\n    <tr>\n      <th>1</th>\n      <td>2022-03-25 23:43:35+00:00</td>\n      <td>JoshSearlesWx</td>\n      <td>Meteorologist woking in global shipping operat...</td>\n      <td>New York, USA</td>\n      <td>Just caught the MSC Ludovica passing through T...</td>\n      <td>en</td>\n      <td>['shipping', 'containership']</td>\n      <td>['https://pbs.twimg.com/media/FOu6bsWWQAY3HpF....</td>\n      <td>NaN</td>\n    </tr>\n    <tr>\n      <th>2</th>\n      <td>2022-03-25 09:16:06+00:00</td>\n      <td>albertpallares</td>\n      <td>Professional especialitzat en el Transport Mar...</td>\n      <td>Travelling a lot</td>\n      <td>Silverstream air bubble tech for 16,000 TEU co...</td>\n      <td>en</td>\n      <td>NaN</td>\n      <td>['https://pbs.twimg.com/media/FOrz4vMVEAIh0Ik....</td>\n      <td>NaN</td>\n    </tr>\n    <tr>\n      <th>3</th>\n      <td>2022-03-23 17:34:43+00:00</td>\n      <td>johnmorgan726</td>\n      <td>I enjoy HAM radio, fishing, and maritime traff...</td>\n      <td>Virginia Beach, VA</td>\n      <td>The HSL NIKE, IMO:9301457 en route to New York...</td>\n      <td>en</td>\n      <td>['HSLNike', 'ContainerShip', 'ShipsInPics']</td>\n      <td>['https://pbs.twimg.com/media/FOjS1FAXsAMl-cl....</td>\n      <td>Place(_api=&lt;tweepy.api.API object at 0x0000025...</td>\n    </tr>\n    <tr>\n      <th>4</th>\n      <td>2022-03-23 11:55:06+00:00</td>\n      <td>EazyCadet</td>\n      <td>'The Eazy Cadet' is an online resource centre ...</td>\n      <td>England, United Kingdom</td>\n      <td>Silverstream air bubble tech for 16,000 TEU co...</td>\n      <td>en</td>\n      <td>NaN</td>\n      <td>['https://pbs.twimg.com/media/FOiFGQzVsAIXtRV....</td>\n      <td>NaN</td>\n    </tr>\n  </tbody>\n</table>\n</div>"
     },
     "execution_count": 31,
     "metadata": {},
     "output_type": "execute_result"
    }
   ],
   "source": [
    "# Drop irrelevant columns from the dataframe\n",
    "merged_tweets_copy = merged_tweets.copy(deep=True)\n",
    "#merged_tweets_copy.drop(['place'], axis = 1, inplace = True)\n",
    "merged_tweets_copy.head()"
   ],
   "metadata": {
    "collapsed": false,
    "pycharm": {
     "name": "#%%\n"
    }
   }
  },
  {
   "cell_type": "code",
   "execution_count": 32,
   "outputs": [
    {
     "data": {
      "text/plain": "                  created_at       user_name  \\\n0  2022-03-26 20:58:32+00:00     Miguel_Egea   \n1  2022-03-25 23:43:35+00:00   JoshSearlesWx   \n2  2022-03-25 09:16:06+00:00  albertpallares   \n3  2022-03-23 17:34:43+00:00   johnmorgan726   \n4  2022-03-23 11:55:06+00:00       EazyCadet   \n\n                                         description            user_location  \\\n0  Segunda estrella a la derecha y todo recto has...                Cartagena   \n1  Meteorologist woking in global shipping operat...            New York, USA   \n2  Professional especialitzat en el Transport Mar...        Travelling a lot    \n3  I enjoy HAM radio, fishing, and maritime traff...       Virginia Beach, VA   \n4  'The Eazy Cadet' is an online resource centre ...  England, United Kingdom   \n\n                                                text language  \\\n0  @johnmorgan726 #ContainerShip + Clouds 📸 🥰 🔝🔝🔝...       en   \n1  Just caught the MSC Ludovica passing through T...       en   \n2  Silverstream air bubble tech for 16,000 TEU co...       en   \n3  The HSL NIKE, IMO:9301457 en route to New York...       en   \n4  Silverstream air bubble tech for 16,000 TEU co...       en   \n\n                              hashtags  \\\n0                        ContainerShip   \n1              shipping, containership   \n2                                  NaN   \n3  HSLNike, ContainerShip, ShipsInPics   \n4                                  NaN   \n\n                                           media_url  \\\n0  https://pbs.twimg.com/tweet_video_thumb/FOzePd...   \n1    https://pbs.twimg.com/media/FOu6bsWWQAY3HpF.jpg   \n2    https://pbs.twimg.com/media/FOrz4vMVEAIh0Ik.jpg   \n3    https://pbs.twimg.com/media/FOjS1FAXsAMl-cl.jpg   \n4    https://pbs.twimg.com/media/FOiFGQzVsAIXtRV.jpg   \n\n                                               place  \n0                                                NaN  \n1                                                NaN  \n2                                                NaN  \n3  Place(_api=<tweepy.api.API object at 0x0000025...  \n4                                                NaN  ",
      "text/html": "<div>\n<style scoped>\n    .dataframe tbody tr th:only-of-type {\n        vertical-align: middle;\n    }\n\n    .dataframe tbody tr th {\n        vertical-align: top;\n    }\n\n    .dataframe thead th {\n        text-align: right;\n    }\n</style>\n<table border=\"1\" class=\"dataframe\">\n  <thead>\n    <tr style=\"text-align: right;\">\n      <th></th>\n      <th>created_at</th>\n      <th>user_name</th>\n      <th>description</th>\n      <th>user_location</th>\n      <th>text</th>\n      <th>language</th>\n      <th>hashtags</th>\n      <th>media_url</th>\n      <th>place</th>\n    </tr>\n  </thead>\n  <tbody>\n    <tr>\n      <th>0</th>\n      <td>2022-03-26 20:58:32+00:00</td>\n      <td>Miguel_Egea</td>\n      <td>Segunda estrella a la derecha y todo recto has...</td>\n      <td>Cartagena</td>\n      <td>@johnmorgan726 #ContainerShip + Clouds 📸 🥰 🔝🔝🔝...</td>\n      <td>en</td>\n      <td>ContainerShip</td>\n      <td>https://pbs.twimg.com/tweet_video_thumb/FOzePd...</td>\n      <td>NaN</td>\n    </tr>\n    <tr>\n      <th>1</th>\n      <td>2022-03-25 23:43:35+00:00</td>\n      <td>JoshSearlesWx</td>\n      <td>Meteorologist woking in global shipping operat...</td>\n      <td>New York, USA</td>\n      <td>Just caught the MSC Ludovica passing through T...</td>\n      <td>en</td>\n      <td>shipping, containership</td>\n      <td>https://pbs.twimg.com/media/FOu6bsWWQAY3HpF.jpg</td>\n      <td>NaN</td>\n    </tr>\n    <tr>\n      <th>2</th>\n      <td>2022-03-25 09:16:06+00:00</td>\n      <td>albertpallares</td>\n      <td>Professional especialitzat en el Transport Mar...</td>\n      <td>Travelling a lot</td>\n      <td>Silverstream air bubble tech for 16,000 TEU co...</td>\n      <td>en</td>\n      <td>NaN</td>\n      <td>https://pbs.twimg.com/media/FOrz4vMVEAIh0Ik.jpg</td>\n      <td>NaN</td>\n    </tr>\n    <tr>\n      <th>3</th>\n      <td>2022-03-23 17:34:43+00:00</td>\n      <td>johnmorgan726</td>\n      <td>I enjoy HAM radio, fishing, and maritime traff...</td>\n      <td>Virginia Beach, VA</td>\n      <td>The HSL NIKE, IMO:9301457 en route to New York...</td>\n      <td>en</td>\n      <td>HSLNike, ContainerShip, ShipsInPics</td>\n      <td>https://pbs.twimg.com/media/FOjS1FAXsAMl-cl.jpg</td>\n      <td>Place(_api=&lt;tweepy.api.API object at 0x0000025...</td>\n    </tr>\n    <tr>\n      <th>4</th>\n      <td>2022-03-23 11:55:06+00:00</td>\n      <td>EazyCadet</td>\n      <td>'The Eazy Cadet' is an online resource centre ...</td>\n      <td>England, United Kingdom</td>\n      <td>Silverstream air bubble tech for 16,000 TEU co...</td>\n      <td>en</td>\n      <td>NaN</td>\n      <td>https://pbs.twimg.com/media/FOiFGQzVsAIXtRV.jpg</td>\n      <td>NaN</td>\n    </tr>\n  </tbody>\n</table>\n</div>"
     },
     "execution_count": 32,
     "metadata": {},
     "output_type": "execute_result"
    }
   ],
   "source": [
    "# Drop special characters from 'hashtags' and 'media_url' columns\n",
    "merged_tweets_copy['media_url'] = merged_tweets_copy['media_url'].str.strip('[]').str.replace(\"'\",\"\")\n",
    "merged_tweets_copy['hashtags'] = merged_tweets_copy['hashtags'].str.strip('[]').str.replace(\"'\",\"\")\n",
    "merged_tweets_copy.head()"
   ],
   "metadata": {
    "collapsed": false,
    "pycharm": {
     "name": "#%%\n"
    }
   }
  },
  {
   "cell_type": "code",
   "execution_count": 33,
   "outputs": [
    {
     "data": {
      "text/plain": "        user_name                                        description  \\\n0     Miguel_Egea  Segunda estrella a la derecha y todo recto has...   \n1   JoshSearlesWx  Meteorologist woking in global shipping operat...   \n2  albertpallares  Professional especialitzat en el Transport Mar...   \n3   johnmorgan726  I enjoy HAM radio, fishing, and maritime traff...   \n4       EazyCadet  'The Eazy Cadet' is an online resource centre ...   \n\n             user_location                                               text  \\\n0                Cartagena  @johnmorgan726 #ContainerShip + Clouds 📸 🥰 🔝🔝🔝...   \n1            New York, USA  Just caught the MSC Ludovica passing through T...   \n2        Travelling a lot   Silverstream air bubble tech for 16,000 TEU co...   \n3       Virginia Beach, VA  The HSL NIKE, IMO:9301457 en route to New York...   \n4  England, United Kingdom  Silverstream air bubble tech for 16,000 TEU co...   \n\n  language                             hashtags  \\\n0       en                        ContainerShip   \n1       en              shipping, containership   \n2       en                                  NaN   \n3       en  HSLNike, ContainerShip, ShipsInPics   \n4       en                                  NaN   \n\n                                           media_url  \\\n0  https://pbs.twimg.com/tweet_video_thumb/FOzePd...   \n1    https://pbs.twimg.com/media/FOu6bsWWQAY3HpF.jpg   \n2    https://pbs.twimg.com/media/FOrz4vMVEAIh0Ik.jpg   \n3    https://pbs.twimg.com/media/FOjS1FAXsAMl-cl.jpg   \n4    https://pbs.twimg.com/media/FOiFGQzVsAIXtRV.jpg   \n\n                                               place        date      time  \n0                                                NaN  2022-03-26  20:58:32  \n1                                                NaN  2022-03-25  23:43:35  \n2                                                NaN  2022-03-25  09:16:06  \n3  Place(_api=<tweepy.api.API object at 0x0000025...  2022-03-23  17:34:43  \n4                                                NaN  2022-03-23  11:55:06  ",
      "text/html": "<div>\n<style scoped>\n    .dataframe tbody tr th:only-of-type {\n        vertical-align: middle;\n    }\n\n    .dataframe tbody tr th {\n        vertical-align: top;\n    }\n\n    .dataframe thead th {\n        text-align: right;\n    }\n</style>\n<table border=\"1\" class=\"dataframe\">\n  <thead>\n    <tr style=\"text-align: right;\">\n      <th></th>\n      <th>user_name</th>\n      <th>description</th>\n      <th>user_location</th>\n      <th>text</th>\n      <th>language</th>\n      <th>hashtags</th>\n      <th>media_url</th>\n      <th>place</th>\n      <th>date</th>\n      <th>time</th>\n    </tr>\n  </thead>\n  <tbody>\n    <tr>\n      <th>0</th>\n      <td>Miguel_Egea</td>\n      <td>Segunda estrella a la derecha y todo recto has...</td>\n      <td>Cartagena</td>\n      <td>@johnmorgan726 #ContainerShip + Clouds 📸 🥰 🔝🔝🔝...</td>\n      <td>en</td>\n      <td>ContainerShip</td>\n      <td>https://pbs.twimg.com/tweet_video_thumb/FOzePd...</td>\n      <td>NaN</td>\n      <td>2022-03-26</td>\n      <td>20:58:32</td>\n    </tr>\n    <tr>\n      <th>1</th>\n      <td>JoshSearlesWx</td>\n      <td>Meteorologist woking in global shipping operat...</td>\n      <td>New York, USA</td>\n      <td>Just caught the MSC Ludovica passing through T...</td>\n      <td>en</td>\n      <td>shipping, containership</td>\n      <td>https://pbs.twimg.com/media/FOu6bsWWQAY3HpF.jpg</td>\n      <td>NaN</td>\n      <td>2022-03-25</td>\n      <td>23:43:35</td>\n    </tr>\n    <tr>\n      <th>2</th>\n      <td>albertpallares</td>\n      <td>Professional especialitzat en el Transport Mar...</td>\n      <td>Travelling a lot</td>\n      <td>Silverstream air bubble tech for 16,000 TEU co...</td>\n      <td>en</td>\n      <td>NaN</td>\n      <td>https://pbs.twimg.com/media/FOrz4vMVEAIh0Ik.jpg</td>\n      <td>NaN</td>\n      <td>2022-03-25</td>\n      <td>09:16:06</td>\n    </tr>\n    <tr>\n      <th>3</th>\n      <td>johnmorgan726</td>\n      <td>I enjoy HAM radio, fishing, and maritime traff...</td>\n      <td>Virginia Beach, VA</td>\n      <td>The HSL NIKE, IMO:9301457 en route to New York...</td>\n      <td>en</td>\n      <td>HSLNike, ContainerShip, ShipsInPics</td>\n      <td>https://pbs.twimg.com/media/FOjS1FAXsAMl-cl.jpg</td>\n      <td>Place(_api=&lt;tweepy.api.API object at 0x0000025...</td>\n      <td>2022-03-23</td>\n      <td>17:34:43</td>\n    </tr>\n    <tr>\n      <th>4</th>\n      <td>EazyCadet</td>\n      <td>'The Eazy Cadet' is an online resource centre ...</td>\n      <td>England, United Kingdom</td>\n      <td>Silverstream air bubble tech for 16,000 TEU co...</td>\n      <td>en</td>\n      <td>NaN</td>\n      <td>https://pbs.twimg.com/media/FOiFGQzVsAIXtRV.jpg</td>\n      <td>NaN</td>\n      <td>2022-03-23</td>\n      <td>11:55:06</td>\n    </tr>\n  </tbody>\n</table>\n</div>"
     },
     "execution_count": 33,
     "metadata": {},
     "output_type": "execute_result"
    }
   ],
   "source": [
    "# split date/time and drop 'created_at' column\n",
    "merged_tweets_copy['date'] = pd.to_datetime(merged_tweets_copy['created_at']).dt.date\n",
    "merged_tweets_copy['time'] = pd.to_datetime(merged_tweets_copy['created_at']).dt.time\n",
    "merged_tweets_copy.drop(['created_at'], axis = 1, inplace = True)\n",
    "merged_tweets_copy.head()"
   ],
   "metadata": {
    "collapsed": false,
    "pycharm": {
     "name": "#%%\n"
    }
   }
  },
  {
   "cell_type": "code",
   "execution_count": 34,
   "outputs": [
    {
     "data": {
      "text/plain": "        user_name                                        description  \\\n0     Miguel_Egea  Segunda estrella a la derecha y todo recto has...   \n1   JoshSearlesWx  Meteorologist woking in global shipping operat...   \n2  albertpallares  Professional especialitzat en el Transport Mar...   \n3   johnmorgan726  I enjoy HAM radio, fishing, and maritime traff...   \n4       EazyCadet  'The Eazy Cadet' is an online resource centre ...   \n\n             user_location                                               text  \\\n0                Cartagena  @johnmorgan726 #ContainerShip + Clouds 📸 🥰 🔝🔝🔝...   \n1            New York, USA  Just caught the MSC Ludovica passing through T...   \n2        Travelling a lot   Silverstream air bubble tech for 16,000 TEU co...   \n3       Virginia Beach, VA  The HSL NIKE, IMO:9301457 en route to New York...   \n4  England, United Kingdom  Silverstream air bubble tech for 16,000 TEU co...   \n\n  language                             hashtags  \\\n0       en                        ContainerShip   \n1       en              shipping, containership   \n2       en                                        \n3       en  HSLNike, ContainerShip, ShipsInPics   \n4       en                                        \n\n                                           media_url  \\\n0  https://pbs.twimg.com/tweet_video_thumb/FOzePd...   \n1    https://pbs.twimg.com/media/FOu6bsWWQAY3HpF.jpg   \n2    https://pbs.twimg.com/media/FOrz4vMVEAIh0Ik.jpg   \n3    https://pbs.twimg.com/media/FOjS1FAXsAMl-cl.jpg   \n4    https://pbs.twimg.com/media/FOiFGQzVsAIXtRV.jpg   \n\n                                               place        date      time  \n0                                                     2022-03-26  20:58:32  \n1                                                     2022-03-25  23:43:35  \n2                                                     2022-03-25  09:16:06  \n3  Place(_api=<tweepy.api.API object at 0x0000025...  2022-03-23  17:34:43  \n4                                                     2022-03-23  11:55:06  ",
      "text/html": "<div>\n<style scoped>\n    .dataframe tbody tr th:only-of-type {\n        vertical-align: middle;\n    }\n\n    .dataframe tbody tr th {\n        vertical-align: top;\n    }\n\n    .dataframe thead th {\n        text-align: right;\n    }\n</style>\n<table border=\"1\" class=\"dataframe\">\n  <thead>\n    <tr style=\"text-align: right;\">\n      <th></th>\n      <th>user_name</th>\n      <th>description</th>\n      <th>user_location</th>\n      <th>text</th>\n      <th>language</th>\n      <th>hashtags</th>\n      <th>media_url</th>\n      <th>place</th>\n      <th>date</th>\n      <th>time</th>\n    </tr>\n  </thead>\n  <tbody>\n    <tr>\n      <th>0</th>\n      <td>Miguel_Egea</td>\n      <td>Segunda estrella a la derecha y todo recto has...</td>\n      <td>Cartagena</td>\n      <td>@johnmorgan726 #ContainerShip + Clouds 📸 🥰 🔝🔝🔝...</td>\n      <td>en</td>\n      <td>ContainerShip</td>\n      <td>https://pbs.twimg.com/tweet_video_thumb/FOzePd...</td>\n      <td></td>\n      <td>2022-03-26</td>\n      <td>20:58:32</td>\n    </tr>\n    <tr>\n      <th>1</th>\n      <td>JoshSearlesWx</td>\n      <td>Meteorologist woking in global shipping operat...</td>\n      <td>New York, USA</td>\n      <td>Just caught the MSC Ludovica passing through T...</td>\n      <td>en</td>\n      <td>shipping, containership</td>\n      <td>https://pbs.twimg.com/media/FOu6bsWWQAY3HpF.jpg</td>\n      <td></td>\n      <td>2022-03-25</td>\n      <td>23:43:35</td>\n    </tr>\n    <tr>\n      <th>2</th>\n      <td>albertpallares</td>\n      <td>Professional especialitzat en el Transport Mar...</td>\n      <td>Travelling a lot</td>\n      <td>Silverstream air bubble tech for 16,000 TEU co...</td>\n      <td>en</td>\n      <td></td>\n      <td>https://pbs.twimg.com/media/FOrz4vMVEAIh0Ik.jpg</td>\n      <td></td>\n      <td>2022-03-25</td>\n      <td>09:16:06</td>\n    </tr>\n    <tr>\n      <th>3</th>\n      <td>johnmorgan726</td>\n      <td>I enjoy HAM radio, fishing, and maritime traff...</td>\n      <td>Virginia Beach, VA</td>\n      <td>The HSL NIKE, IMO:9301457 en route to New York...</td>\n      <td>en</td>\n      <td>HSLNike, ContainerShip, ShipsInPics</td>\n      <td>https://pbs.twimg.com/media/FOjS1FAXsAMl-cl.jpg</td>\n      <td>Place(_api=&lt;tweepy.api.API object at 0x0000025...</td>\n      <td>2022-03-23</td>\n      <td>17:34:43</td>\n    </tr>\n    <tr>\n      <th>4</th>\n      <td>EazyCadet</td>\n      <td>'The Eazy Cadet' is an online resource centre ...</td>\n      <td>England, United Kingdom</td>\n      <td>Silverstream air bubble tech for 16,000 TEU co...</td>\n      <td>en</td>\n      <td></td>\n      <td>https://pbs.twimg.com/media/FOiFGQzVsAIXtRV.jpg</td>\n      <td></td>\n      <td>2022-03-23</td>\n      <td>11:55:06</td>\n    </tr>\n  </tbody>\n</table>\n</div>"
     },
     "execution_count": 34,
     "metadata": {},
     "output_type": "execute_result"
    }
   ],
   "source": [
    "# Replace NaN values\n",
    "merged_tweets_copy.fillna('', inplace=True)\n",
    "merged_tweets_copy.head()"
   ],
   "metadata": {
    "collapsed": false,
    "pycharm": {
     "name": "#%%\n"
    }
   }
  },
  {
   "cell_type": "code",
   "execution_count": 35,
   "outputs": [],
   "source": [
    "merged_tweets_copy.to_csv('C:/Users/tivon/projects/twitter_project/data/merged_tweets.csv', index = False)"
   ],
   "metadata": {
    "collapsed": false,
    "pycharm": {
     "name": "#%%\n"
    }
   }
  }
 ],
 "metadata": {
  "kernelspec": {
   "display_name": "Python 3",
   "language": "python",
   "name": "python3"
  },
  "language_info": {
   "codemirror_mode": {
    "name": "ipython",
    "version": 2
   },
   "file_extension": ".py",
   "mimetype": "text/x-python",
   "name": "python",
   "nbconvert_exporter": "python",
   "pygments_lexer": "ipython2",
   "version": "2.7.6"
  }
 },
 "nbformat": 4,
 "nbformat_minor": 0
}