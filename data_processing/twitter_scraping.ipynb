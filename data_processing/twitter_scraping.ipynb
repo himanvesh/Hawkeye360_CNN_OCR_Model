{
 "cells": [
  {
   "cell_type": "markdown",
   "source": [
    "# I. Twitter Image Scraping"
   ],
   "metadata": {
    "collapsed": false,
    "pycharm": {
     "name": "#%% md\n"
    }
   }
  },
  {
   "cell_type": "markdown",
   "source": [
    "## Initialize API."
   ],
   "metadata": {
    "collapsed": false,
    "pycharm": {
     "name": "#%% md\n"
    }
   }
  },
  {
   "cell_type": "code",
   "execution_count": 1,
   "metadata": {
    "collapsed": true
   },
   "outputs": [],
   "source": [
    "import config\n",
    "import tweepy\n",
    "import pandas as pd\n",
    "\n",
    "api_key = ''\n",
    "api_key_secret = ''\n",
    "\n",
    "access_token = ''\n",
    "access_secret_token = ''\n",
    "\n",
    "auth = tweepy.OAuthHandler(config.api_key, config.api_key_secret)\n",
    "auth.set_access_token(config.access_token, config.access_secret_token)\n",
    "\n",
    "api = tweepy.API(auth, wait_on_rate_limit=True)"
   ]
  },
  {
   "cell_type": "markdown",
   "source": [
    "## Define function to fetch user tweets with api.user_timeline."
   ],
   "metadata": {
    "collapsed": false,
    "pycharm": {
     "name": "#%% md\n"
    }
   }
  },
  {
   "cell_type": "code",
   "execution_count": 13,
   "outputs": [],
   "source": [
    "def getUserTweets(screen_name, count):\n",
    "\n",
    "\n",
    "    # get tweets from the API\n",
    "    tweets = tweepy.Cursor(api.user_timeline, screen_name=screen_name).items(count)\n",
    "\n",
    "    # store the API responses in a list\n",
    "    tweets_copy = []\n",
    "    for tweet in tweets:\n",
    "        if 'media' in tweet.entities: # and 'RT @' not in tweet.text:\n",
    "            tweets_copy.append(tweet)\n",
    "\n",
    "    # initialize the dataframe\n",
    "    tweets_df = pd.DataFrame()\n",
    "    # populate the dataframe\n",
    "    for tweet in tweets_copy:\n",
    "        hashtags = []\n",
    "        media_url = []\n",
    "        try:\n",
    "            for hashtag in tweet.entities[\"hashtags\"]:\n",
    "                hashtags.append(hashtag[\"text\"])\n",
    "            for media in tweet.entities['media']:\n",
    "                media_url.append(media[\"media_url_https\"])\n",
    "        except:\n",
    "            pass\n",
    "        tweets_df = pd.concat([tweets_df, pd.DataFrame({'created_at': tweet.created_at,\n",
    "                                                        'user_name': tweet.user.screen_name,\n",
    "                                                        'description': tweet.user.description,\n",
    "                                                        'user_location': tweet.user.location,\n",
    "                                                        'text': tweet.text,\n",
    "                                                        'language': tweet.lang,\n",
    "                                                        'hashtags': [hashtags if hashtags else None],\n",
    "                                                        'media_url': [media_url if media_url else None],\n",
    "                                                        'place': tweet.place,\n",
    "                                                        })])\n",
    "        tweets_df = tweets_df.reset_index(drop=True)\n",
    "\n",
    "    return tweets_df"
   ],
   "metadata": {
    "collapsed": false,
    "pycharm": {
     "name": "#%%\n"
    }
   }
  },
  {
   "cell_type": "markdown",
   "source": [],
   "metadata": {
    "collapsed": false,
    "pycharm": {
     "name": "#%% md\n"
    }
   }
  },
  {
   "cell_type": "markdown",
   "source": [
    "## User Tweets\n",
    "Use getUserTweets() function to fetch user tweets"
   ],
   "metadata": {
    "collapsed": false,
    "pycharm": {
     "name": "#%% md\n"
    }
   }
  },
  {
   "cell_type": "markdown",
   "source": [
    "### user1\n",
    "screen_name = @PilotHarbour"
   ],
   "metadata": {
    "collapsed": false,
    "pycharm": {
     "name": "#%% md\n"
    }
   }
  },
  {
   "cell_type": "code",
   "execution_count": 15,
   "outputs": [
    {
     "name": "stdout",
     "output_type": "stream",
     "text": [
      "Total Tweets fetched: 797\n"
     ]
    },
    {
     "data": {
      "text/plain": "                 created_at     user_name  \\\n0 2022-03-28 16:22:43+00:00  PilotHarbour   \n1 2022-03-28 10:25:43+00:00  PilotHarbour   \n2 2022-03-28 10:07:37+00:00  PilotHarbour   \n3 2022-03-28 09:34:18+00:00  PilotHarbour   \n4 2022-03-28 07:18:26+00:00  PilotHarbour   \n\n                            description    user_location  \\\n0  Ports and pilots maritime photograpy  Valencia, Spain   \n1  Ports and pilots maritime photograpy  Valencia, Spain   \n2  Ports and pilots maritime photograpy  Valencia, Spain   \n3  Ports and pilots maritime photograpy  Valencia, Spain   \n4  Ports and pilots maritime photograpy  Valencia, Spain   \n\n                                                text language hashtags  \\\n0  RT @palmers_arie: feel welcome this week!! htt...       en     None   \n1  Tenacia berthed Sur dock, Valencia port. \\nhtt...       en     None   \n2  RT @gwyfaz: Pilots disembarking the HMS Queen ...       en     None   \n3  Scrubber MSC Brianna outbound Valencia port.\\n...       en     None   \n4  MSC Mia and MSC Brianna berthed MSC Terminal, ...       ht     None   \n\n                                           media_url place  \n0  [https://pbs.twimg.com/media/FO75H6HXwAgkF33.jpg]  None  \n1  [https://pbs.twimg.com/media/FO7girmXsAEzJYt.jpg]  None  \n2  [https://pbs.twimg.com/ext_tw_video_thumb/1508...  None  \n3  [https://pbs.twimg.com/media/FO7U0PyXIAo0xbg.jpg]  None  \n4  [https://pbs.twimg.com/media/FO61uFqXsAUFEaC.jpg]  None  ",
      "text/html": "<div>\n<style scoped>\n    .dataframe tbody tr th:only-of-type {\n        vertical-align: middle;\n    }\n\n    .dataframe tbody tr th {\n        vertical-align: top;\n    }\n\n    .dataframe thead th {\n        text-align: right;\n    }\n</style>\n<table border=\"1\" class=\"dataframe\">\n  <thead>\n    <tr style=\"text-align: right;\">\n      <th></th>\n      <th>created_at</th>\n      <th>user_name</th>\n      <th>description</th>\n      <th>user_location</th>\n      <th>text</th>\n      <th>language</th>\n      <th>hashtags</th>\n      <th>media_url</th>\n      <th>place</th>\n    </tr>\n  </thead>\n  <tbody>\n    <tr>\n      <th>0</th>\n      <td>2022-03-28 16:22:43+00:00</td>\n      <td>PilotHarbour</td>\n      <td>Ports and pilots maritime photograpy</td>\n      <td>Valencia, Spain</td>\n      <td>RT @palmers_arie: feel welcome this week!! htt...</td>\n      <td>en</td>\n      <td>None</td>\n      <td>[https://pbs.twimg.com/media/FO75H6HXwAgkF33.jpg]</td>\n      <td>None</td>\n    </tr>\n    <tr>\n      <th>1</th>\n      <td>2022-03-28 10:25:43+00:00</td>\n      <td>PilotHarbour</td>\n      <td>Ports and pilots maritime photograpy</td>\n      <td>Valencia, Spain</td>\n      <td>Tenacia berthed Sur dock, Valencia port. \\nhtt...</td>\n      <td>en</td>\n      <td>None</td>\n      <td>[https://pbs.twimg.com/media/FO7girmXsAEzJYt.jpg]</td>\n      <td>None</td>\n    </tr>\n    <tr>\n      <th>2</th>\n      <td>2022-03-28 10:07:37+00:00</td>\n      <td>PilotHarbour</td>\n      <td>Ports and pilots maritime photograpy</td>\n      <td>Valencia, Spain</td>\n      <td>RT @gwyfaz: Pilots disembarking the HMS Queen ...</td>\n      <td>en</td>\n      <td>None</td>\n      <td>[https://pbs.twimg.com/ext_tw_video_thumb/1508...</td>\n      <td>None</td>\n    </tr>\n    <tr>\n      <th>3</th>\n      <td>2022-03-28 09:34:18+00:00</td>\n      <td>PilotHarbour</td>\n      <td>Ports and pilots maritime photograpy</td>\n      <td>Valencia, Spain</td>\n      <td>Scrubber MSC Brianna outbound Valencia port.\\n...</td>\n      <td>en</td>\n      <td>None</td>\n      <td>[https://pbs.twimg.com/media/FO7U0PyXIAo0xbg.jpg]</td>\n      <td>None</td>\n    </tr>\n    <tr>\n      <th>4</th>\n      <td>2022-03-28 07:18:26+00:00</td>\n      <td>PilotHarbour</td>\n      <td>Ports and pilots maritime photograpy</td>\n      <td>Valencia, Spain</td>\n      <td>MSC Mia and MSC Brianna berthed MSC Terminal, ...</td>\n      <td>ht</td>\n      <td>None</td>\n      <td>[https://pbs.twimg.com/media/FO61uFqXsAUFEaC.jpg]</td>\n      <td>None</td>\n    </tr>\n  </tbody>\n</table>\n</div>"
     },
     "execution_count": 15,
     "metadata": {},
     "output_type": "execute_result"
    }
   ],
   "source": [
    "# Use getUserTweets function (screen_name = 'PilotHarbour', count = 1000)\n",
    "user1 = getUserTweets('PilotHarbour', 1000)\n",
    "\n",
    "# show total number of tweets\n",
    "print(\"Total Tweets fetched:\", len(user1))\n",
    "\n",
    "# show the dataframe\n",
    "user1.head()"
   ],
   "metadata": {
    "collapsed": false,
    "pycharm": {
     "name": "#%%\n"
    }
   }
  },
  {
   "cell_type": "code",
   "execution_count": 66,
   "outputs": [],
   "source": [
    "# export dataframe to csv file\n",
    "user1.to_csv('C:/Users/tivon/projects/twitter_project/data/user_tweets_pilotharbour.csv', index = False)"
   ],
   "metadata": {
    "collapsed": false,
    "pycharm": {
     "name": "#%%\n"
    }
   }
  },
  {
   "cell_type": "markdown",
   "source": [
    "### user2\n",
    "screen_name = @ShippingMag"
   ],
   "metadata": {
    "collapsed": false,
    "pycharm": {
     "name": "#%% md\n"
    }
   }
  },
  {
   "cell_type": "code",
   "execution_count": 17,
   "outputs": [
    {
     "name": "stdout",
     "output_type": "stream",
     "text": [
      "Total Tweets fetched: 203\n"
     ]
    },
    {
     "data": {
      "text/plain": "                 created_at    user_name  \\\n0 2022-03-28 17:00:47+00:00  ShippingMag   \n1 2022-03-28 04:41:17+00:00  ShippingMag   \n2 2022-03-26 17:18:33+00:00  ShippingMag   \n3 2022-03-25 05:41:15+00:00  ShippingMag   \n4 2022-03-24 07:00:32+00:00  ShippingMag   \n\n                                         description   user_location  \\\n0  Shipping Today & Yesterday - the monthly magaz...  United Kingdom   \n1  Shipping Today & Yesterday - the monthly magaz...  United Kingdom   \n2  Shipping Today & Yesterday - the monthly magaz...  United Kingdom   \n3  Shipping Today & Yesterday - the monthly magaz...  United Kingdom   \n4  Shipping Today & Yesterday - the monthly magaz...  United Kingdom   \n\n                                                text language    hashtags  \\\n0  RT @TarragonaPilots: mt Front Njord https://t....       en        None   \n1  RT @mariopereda: MN MSC CAROLE 🚢  en el termin...       es        None   \n2  RT @TarragonaPilots: mv Irene Madias #inandout...       et  [inandout]   \n3  RT @GibraltarPilots: At night, we did this. To...       en        None   \n4  RT @GaloMonge: Vb Ceballos…\\n@boludacm https:/...       de        None   \n\n                                           media_url place  \n0  [https://pbs.twimg.com/media/FO8db5CXsA0F4ou.jpg]  None  \n1  [https://pbs.twimg.com/media/FO5Ynu7XwA4jX4N.jpg]  None  \n2  [https://pbs.twimg.com/ext_tw_video_thumb/1507...  None  \n3  [https://pbs.twimg.com/ext_tw_video_thumb/1507...  None  \n4  [https://pbs.twimg.com/media/FOj_P92XoAEmvAu.jpg]  None  ",
      "text/html": "<div>\n<style scoped>\n    .dataframe tbody tr th:only-of-type {\n        vertical-align: middle;\n    }\n\n    .dataframe tbody tr th {\n        vertical-align: top;\n    }\n\n    .dataframe thead th {\n        text-align: right;\n    }\n</style>\n<table border=\"1\" class=\"dataframe\">\n  <thead>\n    <tr style=\"text-align: right;\">\n      <th></th>\n      <th>created_at</th>\n      <th>user_name</th>\n      <th>description</th>\n      <th>user_location</th>\n      <th>text</th>\n      <th>language</th>\n      <th>hashtags</th>\n      <th>media_url</th>\n      <th>place</th>\n    </tr>\n  </thead>\n  <tbody>\n    <tr>\n      <th>0</th>\n      <td>2022-03-28 17:00:47+00:00</td>\n      <td>ShippingMag</td>\n      <td>Shipping Today &amp; Yesterday - the monthly magaz...</td>\n      <td>United Kingdom</td>\n      <td>RT @TarragonaPilots: mt Front Njord https://t....</td>\n      <td>en</td>\n      <td>None</td>\n      <td>[https://pbs.twimg.com/media/FO8db5CXsA0F4ou.jpg]</td>\n      <td>None</td>\n    </tr>\n    <tr>\n      <th>1</th>\n      <td>2022-03-28 04:41:17+00:00</td>\n      <td>ShippingMag</td>\n      <td>Shipping Today &amp; Yesterday - the monthly magaz...</td>\n      <td>United Kingdom</td>\n      <td>RT @mariopereda: MN MSC CAROLE 🚢  en el termin...</td>\n      <td>es</td>\n      <td>None</td>\n      <td>[https://pbs.twimg.com/media/FO5Ynu7XwA4jX4N.jpg]</td>\n      <td>None</td>\n    </tr>\n    <tr>\n      <th>2</th>\n      <td>2022-03-26 17:18:33+00:00</td>\n      <td>ShippingMag</td>\n      <td>Shipping Today &amp; Yesterday - the monthly magaz...</td>\n      <td>United Kingdom</td>\n      <td>RT @TarragonaPilots: mv Irene Madias #inandout...</td>\n      <td>et</td>\n      <td>[inandout]</td>\n      <td>[https://pbs.twimg.com/ext_tw_video_thumb/1507...</td>\n      <td>None</td>\n    </tr>\n    <tr>\n      <th>3</th>\n      <td>2022-03-25 05:41:15+00:00</td>\n      <td>ShippingMag</td>\n      <td>Shipping Today &amp; Yesterday - the monthly magaz...</td>\n      <td>United Kingdom</td>\n      <td>RT @GibraltarPilots: At night, we did this. To...</td>\n      <td>en</td>\n      <td>None</td>\n      <td>[https://pbs.twimg.com/ext_tw_video_thumb/1507...</td>\n      <td>None</td>\n    </tr>\n    <tr>\n      <th>4</th>\n      <td>2022-03-24 07:00:32+00:00</td>\n      <td>ShippingMag</td>\n      <td>Shipping Today &amp; Yesterday - the monthly magaz...</td>\n      <td>United Kingdom</td>\n      <td>RT @GaloMonge: Vb Ceballos…\\n@boludacm https:/...</td>\n      <td>de</td>\n      <td>None</td>\n      <td>[https://pbs.twimg.com/media/FOj_P92XoAEmvAu.jpg]</td>\n      <td>None</td>\n    </tr>\n  </tbody>\n</table>\n</div>"
     },
     "execution_count": 17,
     "metadata": {},
     "output_type": "execute_result"
    }
   ],
   "source": [
    "# Use getUserTweets function (screen_name = 'ShippingMag', count = 1000)\n",
    "user2 = getUserTweets('ShippingMag', 1000)\n",
    "\n",
    "# show total number of tweets\n",
    "print(\"Total Tweets fetched:\", len(user2))\n",
    "\n",
    "# show the dataframe\n",
    "user2.head()"
   ],
   "metadata": {
    "collapsed": false,
    "pycharm": {
     "name": "#%%\n"
    }
   }
  },
  {
   "cell_type": "code",
   "execution_count": 67,
   "outputs": [],
   "source": [
    "# export dataframe to csv file\n",
    "user2.to_csv('C:/Users/tivon/projects/twitter_project/data/user_tweets_shippingmag.csv', index = False)"
   ],
   "metadata": {
    "collapsed": false,
    "pycharm": {
     "name": "#%%\n"
    }
   }
  },
  {
   "cell_type": "markdown",
   "source": [
    "### user3\n",
    "screen_name = @ShipsInPics"
   ],
   "metadata": {
    "collapsed": false,
    "pycharm": {
     "name": "#%% md\n"
    }
   }
  },
  {
   "cell_type": "code",
   "execution_count": 19,
   "outputs": [
    {
     "name": "stdout",
     "output_type": "stream",
     "text": [
      "Total Tweets fetched: 123\n"
     ]
    },
    {
     "data": {
      "text/plain": "                 created_at    user_name  \\\n0 2022-03-28 20:10:35+00:00  ShipsInPics   \n1 2022-03-27 18:10:34+00:00  ShipsInPics   \n2 2022-03-26 19:10:52+00:00  ShipsInPics   \n3 2022-03-25 13:10:37+00:00  ShipsInPics   \n4 2022-03-25 10:10:39+00:00  ShipsInPics   \n\n                                         description  \\\n0  Sharing the best ship photos 📷 around. Tweets ...   \n1  Sharing the best ship photos 📷 around. Tweets ...   \n2  Sharing the best ship photos 📷 around. Tweets ...   \n3  Sharing the best ship photos 📷 around. Tweets ...   \n4  Sharing the best ship photos 📷 around. Tweets ...   \n\n                  user_location  \\\n0  Email: shipsinpics@gmail.com   \n1  Email: shipsinpics@gmail.com   \n2  Email: shipsinpics@gmail.com   \n3  Email: shipsinpics@gmail.com   \n4  Email: shipsinpics@gmail.com   \n\n                                                text language  \\\n0  RT @AfricaUya: WEC CORNEILLE at⚓️ #Ship #port ...       de   \n1  RT @AfricaUya: SDS GREEN⚓️ #Ship #port #sea #s...       sv   \n2  RT @hhvferry: Viking Glory of @vikingline_se a...       en   \n3  RT @LarryHenley2: GM gm GM\\nlooks to be a marv...       en   \n4  RT @Gibdan1: Cargo ships in Gibraltar #shipsin...       en   \n\n                                            hashtags  \\\n0  [Ship, port, sea, shipsinpics, maritime, VTS, ...   \n1  [Ship, port, sea, shipsinpics, maritime, VTS, ...   \n2                                      [shipsinpics]   \n3                                [shipsinpics, NOLA]   \n4       [shipsinpics, ships, shipping, shipspotting]   \n\n                                           media_url place  \n0  [https://pbs.twimg.com/media/FO9aQDzWQAw9nUe.jpg]  None  \n1  [https://pbs.twimg.com/media/FO38_N1XEAUsNz_.jpg]  None  \n2  [https://pbs.twimg.com/media/FOzE5YIXEAMLGCq.jpg]  None  \n3  [https://pbs.twimg.com/media/FOsmwJjXsAAYCOo.jpg]  None  \n4  [https://pbs.twimg.com/media/FOr7W7_XMAc8UII.jpg]  None  ",
      "text/html": "<div>\n<style scoped>\n    .dataframe tbody tr th:only-of-type {\n        vertical-align: middle;\n    }\n\n    .dataframe tbody tr th {\n        vertical-align: top;\n    }\n\n    .dataframe thead th {\n        text-align: right;\n    }\n</style>\n<table border=\"1\" class=\"dataframe\">\n  <thead>\n    <tr style=\"text-align: right;\">\n      <th></th>\n      <th>created_at</th>\n      <th>user_name</th>\n      <th>description</th>\n      <th>user_location</th>\n      <th>text</th>\n      <th>language</th>\n      <th>hashtags</th>\n      <th>media_url</th>\n      <th>place</th>\n    </tr>\n  </thead>\n  <tbody>\n    <tr>\n      <th>0</th>\n      <td>2022-03-28 20:10:35+00:00</td>\n      <td>ShipsInPics</td>\n      <td>Sharing the best ship photos 📷 around. Tweets ...</td>\n      <td>Email: shipsinpics@gmail.com</td>\n      <td>RT @AfricaUya: WEC CORNEILLE at⚓️ #Ship #port ...</td>\n      <td>de</td>\n      <td>[Ship, port, sea, shipsinpics, maritime, VTS, ...</td>\n      <td>[https://pbs.twimg.com/media/FO9aQDzWQAw9nUe.jpg]</td>\n      <td>None</td>\n    </tr>\n    <tr>\n      <th>1</th>\n      <td>2022-03-27 18:10:34+00:00</td>\n      <td>ShipsInPics</td>\n      <td>Sharing the best ship photos 📷 around. Tweets ...</td>\n      <td>Email: shipsinpics@gmail.com</td>\n      <td>RT @AfricaUya: SDS GREEN⚓️ #Ship #port #sea #s...</td>\n      <td>sv</td>\n      <td>[Ship, port, sea, shipsinpics, maritime, VTS, ...</td>\n      <td>[https://pbs.twimg.com/media/FO38_N1XEAUsNz_.jpg]</td>\n      <td>None</td>\n    </tr>\n    <tr>\n      <th>2</th>\n      <td>2022-03-26 19:10:52+00:00</td>\n      <td>ShipsInPics</td>\n      <td>Sharing the best ship photos 📷 around. Tweets ...</td>\n      <td>Email: shipsinpics@gmail.com</td>\n      <td>RT @hhvferry: Viking Glory of @vikingline_se a...</td>\n      <td>en</td>\n      <td>[shipsinpics]</td>\n      <td>[https://pbs.twimg.com/media/FOzE5YIXEAMLGCq.jpg]</td>\n      <td>None</td>\n    </tr>\n    <tr>\n      <th>3</th>\n      <td>2022-03-25 13:10:37+00:00</td>\n      <td>ShipsInPics</td>\n      <td>Sharing the best ship photos 📷 around. Tweets ...</td>\n      <td>Email: shipsinpics@gmail.com</td>\n      <td>RT @LarryHenley2: GM gm GM\\nlooks to be a marv...</td>\n      <td>en</td>\n      <td>[shipsinpics, NOLA]</td>\n      <td>[https://pbs.twimg.com/media/FOsmwJjXsAAYCOo.jpg]</td>\n      <td>None</td>\n    </tr>\n    <tr>\n      <th>4</th>\n      <td>2022-03-25 10:10:39+00:00</td>\n      <td>ShipsInPics</td>\n      <td>Sharing the best ship photos 📷 around. Tweets ...</td>\n      <td>Email: shipsinpics@gmail.com</td>\n      <td>RT @Gibdan1: Cargo ships in Gibraltar #shipsin...</td>\n      <td>en</td>\n      <td>[shipsinpics, ships, shipping, shipspotting]</td>\n      <td>[https://pbs.twimg.com/media/FOr7W7_XMAc8UII.jpg]</td>\n      <td>None</td>\n    </tr>\n  </tbody>\n</table>\n</div>"
     },
     "execution_count": 19,
     "metadata": {},
     "output_type": "execute_result"
    }
   ],
   "source": [
    "# Use getUserTweets function (screen_name = 'ShipsInPics', count = 1000)\n",
    "user3 = getUserTweets('ShipsInPics', 1000)\n",
    "\n",
    "# show total number of tweets\n",
    "print(\"Total Tweets fetched:\", len(user3))\n",
    "\n",
    "# show the dataframe\n",
    "user3.head()"
   ],
   "metadata": {
    "collapsed": false,
    "pycharm": {
     "name": "#%%\n"
    }
   }
  },
  {
   "cell_type": "code",
   "execution_count": 68,
   "outputs": [],
   "source": [
    "# export dataframe to csv file\n",
    "user3.to_csv('C:/Users/tivon/projects/twitter_project/data/user_tweets_shipsinpics.csv', index = False)"
   ],
   "metadata": {
    "collapsed": false,
    "pycharm": {
     "name": "#%%\n"
    }
   }
  },
  {
   "cell_type": "markdown",
   "source": [
    "### user4\n",
    "screen_name = @captsingh"
   ],
   "metadata": {
    "collapsed": false,
    "pycharm": {
     "name": "#%% md\n"
    }
   }
  },
  {
   "cell_type": "code",
   "execution_count": 102,
   "outputs": [
    {
     "name": "stdout",
     "output_type": "stream",
     "text": [
      "Total Tweets fetched: 478\n"
     ]
    },
    {
     "data": {
      "text/plain": "                 created_at  user_name  \\\n0 2022-03-29 10:28:15+00:00  captsingh   \n1 2022-03-29 10:21:01+00:00  captsingh   \n2 2022-03-29 09:47:01+00:00  captsingh   \n3 2022-03-29 08:47:46+00:00  captsingh   \n4 2022-03-29 06:41:18+00:00  captsingh   \n\n                                         description user_location  \\\n0  🌎 World #Travelled  ■ UK Class.1 Master Marine...  Singapore 🇸🇬   \n1  🌎 World #Travelled  ■ UK Class.1 Master Marine...  Singapore 🇸🇬   \n2  🌎 World #Travelled  ■ UK Class.1 Master Marine...  Singapore 🇸🇬   \n3  🌎 World #Travelled  ■ UK Class.1 Master Marine...  Singapore 🇸🇬   \n4  🌎 World #Travelled  ■ UK Class.1 Master Marine...  Singapore 🇸🇬   \n\n                                              text language hashtags  \\\n0            . @LauschJack https://t.co/RXXWWZR7Y3      und     None   \n1                        \\ https://t.co/MaqsfK432r      und     None   \n2  RT @v30088v: @captsingh https://t.co/6Q0R6Zywu5      und     None   \n3                        \\ https://t.co/mkflW0G4F5      und     None   \n4      Good day @havdh4024 https://t.co/8YDdmfrSkT       en     None   \n\n                                           media_url place  \n0  [https://pbs.twimg.com/media/FPAqvYEVcAAH_Tw.jpg]  None  \n1  [https://pbs.twimg.com/ext_tw_video_thumb/1508...  None  \n2  [https://pbs.twimg.com/ext_tw_video_thumb/1508...  None  \n3  [https://pbs.twimg.com/ext_tw_video_thumb/1508...  None  \n4  [https://pbs.twimg.com/ext_tw_video_thumb/1508...  None  ",
      "text/html": "<div>\n<style scoped>\n    .dataframe tbody tr th:only-of-type {\n        vertical-align: middle;\n    }\n\n    .dataframe tbody tr th {\n        vertical-align: top;\n    }\n\n    .dataframe thead th {\n        text-align: right;\n    }\n</style>\n<table border=\"1\" class=\"dataframe\">\n  <thead>\n    <tr style=\"text-align: right;\">\n      <th></th>\n      <th>created_at</th>\n      <th>user_name</th>\n      <th>description</th>\n      <th>user_location</th>\n      <th>text</th>\n      <th>language</th>\n      <th>hashtags</th>\n      <th>media_url</th>\n      <th>place</th>\n    </tr>\n  </thead>\n  <tbody>\n    <tr>\n      <th>0</th>\n      <td>2022-03-29 10:28:15+00:00</td>\n      <td>captsingh</td>\n      <td>🌎 World #Travelled  ■ UK Class.1 Master Marine...</td>\n      <td>Singapore 🇸🇬</td>\n      <td>. @LauschJack https://t.co/RXXWWZR7Y3</td>\n      <td>und</td>\n      <td>None</td>\n      <td>[https://pbs.twimg.com/media/FPAqvYEVcAAH_Tw.jpg]</td>\n      <td>None</td>\n    </tr>\n    <tr>\n      <th>1</th>\n      <td>2022-03-29 10:21:01+00:00</td>\n      <td>captsingh</td>\n      <td>🌎 World #Travelled  ■ UK Class.1 Master Marine...</td>\n      <td>Singapore 🇸🇬</td>\n      <td>\\ https://t.co/MaqsfK432r</td>\n      <td>und</td>\n      <td>None</td>\n      <td>[https://pbs.twimg.com/ext_tw_video_thumb/1508...</td>\n      <td>None</td>\n    </tr>\n    <tr>\n      <th>2</th>\n      <td>2022-03-29 09:47:01+00:00</td>\n      <td>captsingh</td>\n      <td>🌎 World #Travelled  ■ UK Class.1 Master Marine...</td>\n      <td>Singapore 🇸🇬</td>\n      <td>RT @v30088v: @captsingh https://t.co/6Q0R6Zywu5</td>\n      <td>und</td>\n      <td>None</td>\n      <td>[https://pbs.twimg.com/ext_tw_video_thumb/1508...</td>\n      <td>None</td>\n    </tr>\n    <tr>\n      <th>3</th>\n      <td>2022-03-29 08:47:46+00:00</td>\n      <td>captsingh</td>\n      <td>🌎 World #Travelled  ■ UK Class.1 Master Marine...</td>\n      <td>Singapore 🇸🇬</td>\n      <td>\\ https://t.co/mkflW0G4F5</td>\n      <td>und</td>\n      <td>None</td>\n      <td>[https://pbs.twimg.com/ext_tw_video_thumb/1508...</td>\n      <td>None</td>\n    </tr>\n    <tr>\n      <th>4</th>\n      <td>2022-03-29 06:41:18+00:00</td>\n      <td>captsingh</td>\n      <td>🌎 World #Travelled  ■ UK Class.1 Master Marine...</td>\n      <td>Singapore 🇸🇬</td>\n      <td>Good day @havdh4024 https://t.co/8YDdmfrSkT</td>\n      <td>en</td>\n      <td>None</td>\n      <td>[https://pbs.twimg.com/ext_tw_video_thumb/1508...</td>\n      <td>None</td>\n    </tr>\n  </tbody>\n</table>\n</div>"
     },
     "execution_count": 102,
     "metadata": {},
     "output_type": "execute_result"
    }
   ],
   "source": [
    "# Use getUserTweets function (screen_name = 'captsingh', count = 1000)\n",
    "user4 = getUserTweets('captsingh', 1000)\n",
    "\n",
    "# show total number of tweets\n",
    "print(\"Total Tweets fetched:\", len(user4))\n",
    "\n",
    "# show the dataframe\n",
    "user4.head()"
   ],
   "metadata": {
    "collapsed": false,
    "pycharm": {
     "name": "#%%\n"
    }
   }
  },
  {
   "cell_type": "code",
   "execution_count": 103,
   "outputs": [],
   "source": [
    "# export dataframe to csv file\n",
    "user4.to_csv('C:/Users/tivon/projects/twitter_project/data/user_tweets_captsingh.csv', index = False)"
   ],
   "metadata": {
    "collapsed": false,
    "pycharm": {
     "name": "#%%\n"
    }
   }
  },
  {
   "cell_type": "markdown",
   "source": [
    "### user4\n",
    "screen_name = @WarshipCam"
   ],
   "metadata": {
    "collapsed": false,
    "pycharm": {
     "name": "#%% md\n"
    }
   }
  },
  {
   "cell_type": "code",
   "execution_count": 23,
   "outputs": [
    {
     "name": "stdout",
     "output_type": "stream",
     "text": [
      "Total Tweets fetched: 83\n"
     ]
    },
    {
     "data": {
      "text/plain": "                 created_at   user_name  \\\n0 2022-03-28 18:54:21+00:00  WarshipCam   \n1 2022-03-28 18:46:13+00:00  WarshipCam   \n2 2022-03-28 17:18:29+00:00  WarshipCam   \n3 2022-03-28 17:14:39+00:00  WarshipCam   \n4 2022-03-28 17:14:19+00:00  WarshipCam   \n\n                                         description  user_location  \\\n0  *-* Watching webcams & social media for views ...  Virginia, USA   \n1  *-* Watching webcams & social media for views ...  Virginia, USA   \n2  *-* Watching webcams & social media for views ...  Virginia, USA   \n3  *-* Watching webcams & social media for views ...  Virginia, USA   \n4  *-* Watching webcams & social media for views ...  Virginia, USA   \n\n                                                text language  \\\n0  Unidentified submarine leaving Bremerton and h...       en   \n1  HMS Portland (F79) Duke-class frigate leaving ...       en   \n2  USS Carl Vinson (CVN 70) Nimitz-class aircraft...       en   \n3  USS Carl Vinson (CVN 70) Nimitz-class aircraft...       en   \n4  USS Carl Vinson (CVN 70) Nimitz-class aircraft...       en   \n\n                 hashtags                                          media_url  \\\n0                    None  [https://pbs.twimg.com/media/FO9VAUkXwAQsmHo.jpg]   \n1      [hmsportland, f79]  [https://pbs.twimg.com/media/FO9TJHHWQAQx3oZ.jpg]   \n2  [usscarlvinson, cvn70]  [https://pbs.twimg.com/media/FO8_Db5WYAgTrm9.jpg]   \n3  [usscarlvinson, cvn70]  [https://pbs.twimg.com/media/FO8-L4aXMAwFXf_.jpg]   \n4  [usscarlvinson, cvn70]  [https://pbs.twimg.com/media/FO8-GyDXMAE3YKR.jpg]   \n\n  place  \n0  None  \n1  None  \n2  None  \n3  None  \n4  None  ",
      "text/html": "<div>\n<style scoped>\n    .dataframe tbody tr th:only-of-type {\n        vertical-align: middle;\n    }\n\n    .dataframe tbody tr th {\n        vertical-align: top;\n    }\n\n    .dataframe thead th {\n        text-align: right;\n    }\n</style>\n<table border=\"1\" class=\"dataframe\">\n  <thead>\n    <tr style=\"text-align: right;\">\n      <th></th>\n      <th>created_at</th>\n      <th>user_name</th>\n      <th>description</th>\n      <th>user_location</th>\n      <th>text</th>\n      <th>language</th>\n      <th>hashtags</th>\n      <th>media_url</th>\n      <th>place</th>\n    </tr>\n  </thead>\n  <tbody>\n    <tr>\n      <th>0</th>\n      <td>2022-03-28 18:54:21+00:00</td>\n      <td>WarshipCam</td>\n      <td>*-* Watching webcams &amp; social media for views ...</td>\n      <td>Virginia, USA</td>\n      <td>Unidentified submarine leaving Bremerton and h...</td>\n      <td>en</td>\n      <td>None</td>\n      <td>[https://pbs.twimg.com/media/FO9VAUkXwAQsmHo.jpg]</td>\n      <td>None</td>\n    </tr>\n    <tr>\n      <th>1</th>\n      <td>2022-03-28 18:46:13+00:00</td>\n      <td>WarshipCam</td>\n      <td>*-* Watching webcams &amp; social media for views ...</td>\n      <td>Virginia, USA</td>\n      <td>HMS Portland (F79) Duke-class frigate leaving ...</td>\n      <td>en</td>\n      <td>[hmsportland, f79]</td>\n      <td>[https://pbs.twimg.com/media/FO9TJHHWQAQx3oZ.jpg]</td>\n      <td>None</td>\n    </tr>\n    <tr>\n      <th>2</th>\n      <td>2022-03-28 17:18:29+00:00</td>\n      <td>WarshipCam</td>\n      <td>*-* Watching webcams &amp; social media for views ...</td>\n      <td>Virginia, USA</td>\n      <td>USS Carl Vinson (CVN 70) Nimitz-class aircraft...</td>\n      <td>en</td>\n      <td>[usscarlvinson, cvn70]</td>\n      <td>[https://pbs.twimg.com/media/FO8_Db5WYAgTrm9.jpg]</td>\n      <td>None</td>\n    </tr>\n    <tr>\n      <th>3</th>\n      <td>2022-03-28 17:14:39+00:00</td>\n      <td>WarshipCam</td>\n      <td>*-* Watching webcams &amp; social media for views ...</td>\n      <td>Virginia, USA</td>\n      <td>USS Carl Vinson (CVN 70) Nimitz-class aircraft...</td>\n      <td>en</td>\n      <td>[usscarlvinson, cvn70]</td>\n      <td>[https://pbs.twimg.com/media/FO8-L4aXMAwFXf_.jpg]</td>\n      <td>None</td>\n    </tr>\n    <tr>\n      <th>4</th>\n      <td>2022-03-28 17:14:19+00:00</td>\n      <td>WarshipCam</td>\n      <td>*-* Watching webcams &amp; social media for views ...</td>\n      <td>Virginia, USA</td>\n      <td>USS Carl Vinson (CVN 70) Nimitz-class aircraft...</td>\n      <td>en</td>\n      <td>[usscarlvinson, cvn70]</td>\n      <td>[https://pbs.twimg.com/media/FO8-GyDXMAE3YKR.jpg]</td>\n      <td>None</td>\n    </tr>\n  </tbody>\n</table>\n</div>"
     },
     "execution_count": 23,
     "metadata": {},
     "output_type": "execute_result"
    }
   ],
   "source": [
    "# Use getUserTweets function (screen_name = 'WarshipCam', count = 1000)\n",
    "user5 = getUserTweets('WarshipCam', 1000)\n",
    "\n",
    "# show total number of tweets\n",
    "print(\"Total Tweets fetched:\", len(user5))\n",
    "\n",
    "# show the dataframe\n",
    "user5.head()"
   ],
   "metadata": {
    "collapsed": false,
    "pycharm": {
     "name": "#%%\n"
    }
   }
  },
  {
   "cell_type": "code",
   "execution_count": 70,
   "outputs": [],
   "source": [
    "# export dataframe to csv file\n",
    "user5.to_csv('C:/Users/tivon/projects/twitter_project/data/user_tweets_warshipcam.csv', index = False)"
   ],
   "metadata": {
    "collapsed": false,
    "pycharm": {
     "name": "#%%\n"
    }
   }
  },
  {
   "cell_type": "markdown",
   "source": [
    "### user6\n",
    "screen_name = @NavyLookout"
   ],
   "metadata": {
    "collapsed": false,
    "pycharm": {
     "name": "#%% md\n"
    }
   }
  },
  {
   "cell_type": "code",
   "execution_count": 25,
   "outputs": [
    {
     "name": "stdout",
     "output_type": "stream",
     "text": [
      "Total Tweets fetched: 333\n"
     ]
    },
    {
     "data": {
      "text/plain": "                 created_at    user_name  \\\n0 2022-03-28 17:43:58+00:00  NavyLookout   \n1 2022-03-28 16:12:13+00:00  NavyLookout   \n2 2022-03-28 09:28:09+00:00  NavyLookout   \n3 2022-03-28 09:25:48+00:00  NavyLookout   \n4 2022-03-28 09:09:57+00:00  NavyLookout   \n\n                                description user_location  \\\n0  Independent Royal Navy news and analysis            UK   \n1  Independent Royal Navy news and analysis            UK   \n2  Independent Royal Navy news and analysis            UK   \n3  Independent Royal Navy news and analysis            UK   \n4  Independent Royal Navy news and analysis            UK   \n\n                                                text language hashtags  \\\n0  .@hms_pembroke outbound on the Clyde today.\\n\\...       en     None   \n1  Latest news commentary:\\n\\nAssessing Russia’s ...       en     None   \n2  .@HMSQNLZ sails from Liverpool this morning \\n...       en     None   \n3  .@hms_tyne outbound from Devonport for more @F...       en     None   \n4  P2000s @HMS_Smiter @HMSExplorer @HMSArcher sai...       en     None   \n\n                                           media_url place  \n0  [https://pbs.twimg.com/media/FO9ExbvXEAQtxTk.jpg]  None  \n1  [https://pbs.twimg.com/media/FO8t2R3XsAgiBiQ.jpg]  None  \n2  [https://pbs.twimg.com/media/FO7TZ9QXEAULrqX.jpg]  None  \n3  [https://pbs.twimg.com/media/FO7S3k7XEAgxfmj.jpg]  None  \n4  [https://pbs.twimg.com/media/FO7PItPXwAApe1W.jpg]  None  ",
      "text/html": "<div>\n<style scoped>\n    .dataframe tbody tr th:only-of-type {\n        vertical-align: middle;\n    }\n\n    .dataframe tbody tr th {\n        vertical-align: top;\n    }\n\n    .dataframe thead th {\n        text-align: right;\n    }\n</style>\n<table border=\"1\" class=\"dataframe\">\n  <thead>\n    <tr style=\"text-align: right;\">\n      <th></th>\n      <th>created_at</th>\n      <th>user_name</th>\n      <th>description</th>\n      <th>user_location</th>\n      <th>text</th>\n      <th>language</th>\n      <th>hashtags</th>\n      <th>media_url</th>\n      <th>place</th>\n    </tr>\n  </thead>\n  <tbody>\n    <tr>\n      <th>0</th>\n      <td>2022-03-28 17:43:58+00:00</td>\n      <td>NavyLookout</td>\n      <td>Independent Royal Navy news and analysis</td>\n      <td>UK</td>\n      <td>.@hms_pembroke outbound on the Clyde today.\\n\\...</td>\n      <td>en</td>\n      <td>None</td>\n      <td>[https://pbs.twimg.com/media/FO9ExbvXEAQtxTk.jpg]</td>\n      <td>None</td>\n    </tr>\n    <tr>\n      <th>1</th>\n      <td>2022-03-28 16:12:13+00:00</td>\n      <td>NavyLookout</td>\n      <td>Independent Royal Navy news and analysis</td>\n      <td>UK</td>\n      <td>Latest news commentary:\\n\\nAssessing Russia’s ...</td>\n      <td>en</td>\n      <td>None</td>\n      <td>[https://pbs.twimg.com/media/FO8t2R3XsAgiBiQ.jpg]</td>\n      <td>None</td>\n    </tr>\n    <tr>\n      <th>2</th>\n      <td>2022-03-28 09:28:09+00:00</td>\n      <td>NavyLookout</td>\n      <td>Independent Royal Navy news and analysis</td>\n      <td>UK</td>\n      <td>.@HMSQNLZ sails from Liverpool this morning \\n...</td>\n      <td>en</td>\n      <td>None</td>\n      <td>[https://pbs.twimg.com/media/FO7TZ9QXEAULrqX.jpg]</td>\n      <td>None</td>\n    </tr>\n    <tr>\n      <th>3</th>\n      <td>2022-03-28 09:25:48+00:00</td>\n      <td>NavyLookout</td>\n      <td>Independent Royal Navy news and analysis</td>\n      <td>UK</td>\n      <td>.@hms_tyne outbound from Devonport for more @F...</td>\n      <td>en</td>\n      <td>None</td>\n      <td>[https://pbs.twimg.com/media/FO7S3k7XEAgxfmj.jpg]</td>\n      <td>None</td>\n    </tr>\n    <tr>\n      <th>4</th>\n      <td>2022-03-28 09:09:57+00:00</td>\n      <td>NavyLookout</td>\n      <td>Independent Royal Navy news and analysis</td>\n      <td>UK</td>\n      <td>P2000s @HMS_Smiter @HMSExplorer @HMSArcher sai...</td>\n      <td>en</td>\n      <td>None</td>\n      <td>[https://pbs.twimg.com/media/FO7PItPXwAApe1W.jpg]</td>\n      <td>None</td>\n    </tr>\n  </tbody>\n</table>\n</div>"
     },
     "execution_count": 25,
     "metadata": {},
     "output_type": "execute_result"
    }
   ],
   "source": [
    "# Use getUserTweets function (screen_name = 'NavyLookout', count = 1000)\n",
    "user6 = getUserTweets('NavyLookout', 1000)\n",
    "\n",
    "# show total number of tweets\n",
    "print(\"Total Tweets fetched:\", len(user6))\n",
    "\n",
    "# show the dataframe\n",
    "user6.head()"
   ],
   "metadata": {
    "collapsed": false,
    "pycharm": {
     "name": "#%%\n"
    }
   }
  },
  {
   "cell_type": "code",
   "execution_count": 71,
   "outputs": [],
   "source": [
    "# export dataframe to csv file\n",
    "user6.to_csv('C:/Users/tivon/projects/twitter_project/data/user_tweets_navylookout.csv', index = False)"
   ],
   "metadata": {
    "collapsed": false,
    "pycharm": {
     "name": "#%%\n"
    }
   }
  },
  {
   "cell_type": "markdown",
   "source": [
    "### user7\n",
    "screen_name = @FraserG32883664"
   ],
   "metadata": {
    "collapsed": false,
    "pycharm": {
     "name": "#%% md\n"
    }
   }
  },
  {
   "cell_type": "code",
   "execution_count": 27,
   "outputs": [
    {
     "name": "stdout",
     "output_type": "stream",
     "text": [
      "Total Tweets fetched: 171\n"
     ]
    },
    {
     "data": {
      "text/plain": "                 created_at        user_name description user_location  \\\n0 2022-03-24 08:42:36+00:00  FraserG32883664                             \n1 2022-03-20 08:04:36+00:00  FraserG32883664                             \n2 2022-03-16 06:07:30+00:00  FraserG32883664                             \n3 2022-03-09 09:43:48+00:00  FraserG32883664                             \n4 2022-03-05 07:12:37+00:00  FraserG32883664                             \n\n                                                text language  \\\n0  Svitzer tug boat ‘water colour’. @SvitzerGloba...       ca   \n1  Chemical and oil tanker STI Clapham passing Ea...       en   \n2  SSI Erdogan Bey on the Thames and passing the ...       en   \n3  Cargo ship Okiana progressing along the Essex ...       en   \n4  Bulk carrier Moleson heading into Gravesend Re...       en   \n\n                                            hashtags  \\\n0                     [Tugs, Gravesend, RiverThames]   \n1                [ShipsInPics, Tilbury, RiverThames]   \n2  [ShipsInPics, BulkCarrier, Gravesend, RiverTha...   \n3              [ShipsInPics, CargoShip, RiverThames]   \n4            [ShipsInPics, BulkCarrier, RiverThames]   \n\n                                           media_url place  \n0  [https://pbs.twimg.com/media/FOmikIEXwAAml8b.jpg]  None  \n1  [https://pbs.twimg.com/media/FORzgYiWUAMWFUM.jpg]  None  \n2  [https://pbs.twimg.com/media/FN8yWObXoAALAD6.jpg]  None  \n3  [https://pbs.twimg.com/media/FNZgjdGX0AIarb2.jpg]  None  \n4  [https://pbs.twimg.com/media/FNEXxv4XEAYyChv.jpg]  None  ",
      "text/html": "<div>\n<style scoped>\n    .dataframe tbody tr th:only-of-type {\n        vertical-align: middle;\n    }\n\n    .dataframe tbody tr th {\n        vertical-align: top;\n    }\n\n    .dataframe thead th {\n        text-align: right;\n    }\n</style>\n<table border=\"1\" class=\"dataframe\">\n  <thead>\n    <tr style=\"text-align: right;\">\n      <th></th>\n      <th>created_at</th>\n      <th>user_name</th>\n      <th>description</th>\n      <th>user_location</th>\n      <th>text</th>\n      <th>language</th>\n      <th>hashtags</th>\n      <th>media_url</th>\n      <th>place</th>\n    </tr>\n  </thead>\n  <tbody>\n    <tr>\n      <th>0</th>\n      <td>2022-03-24 08:42:36+00:00</td>\n      <td>FraserG32883664</td>\n      <td></td>\n      <td></td>\n      <td>Svitzer tug boat ‘water colour’. @SvitzerGloba...</td>\n      <td>ca</td>\n      <td>[Tugs, Gravesend, RiverThames]</td>\n      <td>[https://pbs.twimg.com/media/FOmikIEXwAAml8b.jpg]</td>\n      <td>None</td>\n    </tr>\n    <tr>\n      <th>1</th>\n      <td>2022-03-20 08:04:36+00:00</td>\n      <td>FraserG32883664</td>\n      <td></td>\n      <td></td>\n      <td>Chemical and oil tanker STI Clapham passing Ea...</td>\n      <td>en</td>\n      <td>[ShipsInPics, Tilbury, RiverThames]</td>\n      <td>[https://pbs.twimg.com/media/FORzgYiWUAMWFUM.jpg]</td>\n      <td>None</td>\n    </tr>\n    <tr>\n      <th>2</th>\n      <td>2022-03-16 06:07:30+00:00</td>\n      <td>FraserG32883664</td>\n      <td></td>\n      <td></td>\n      <td>SSI Erdogan Bey on the Thames and passing the ...</td>\n      <td>en</td>\n      <td>[ShipsInPics, BulkCarrier, Gravesend, RiverTha...</td>\n      <td>[https://pbs.twimg.com/media/FN8yWObXoAALAD6.jpg]</td>\n      <td>None</td>\n    </tr>\n    <tr>\n      <th>3</th>\n      <td>2022-03-09 09:43:48+00:00</td>\n      <td>FraserG32883664</td>\n      <td></td>\n      <td></td>\n      <td>Cargo ship Okiana progressing along the Essex ...</td>\n      <td>en</td>\n      <td>[ShipsInPics, CargoShip, RiverThames]</td>\n      <td>[https://pbs.twimg.com/media/FNZgjdGX0AIarb2.jpg]</td>\n      <td>None</td>\n    </tr>\n    <tr>\n      <th>4</th>\n      <td>2022-03-05 07:12:37+00:00</td>\n      <td>FraserG32883664</td>\n      <td></td>\n      <td></td>\n      <td>Bulk carrier Moleson heading into Gravesend Re...</td>\n      <td>en</td>\n      <td>[ShipsInPics, BulkCarrier, RiverThames]</td>\n      <td>[https://pbs.twimg.com/media/FNEXxv4XEAYyChv.jpg]</td>\n      <td>None</td>\n    </tr>\n  </tbody>\n</table>\n</div>"
     },
     "execution_count": 27,
     "metadata": {},
     "output_type": "execute_result"
    }
   ],
   "source": [
    "# Use getUserTweets function (screen_name = 'FraserG32883664', count = 1000)\n",
    "user7 = getUserTweets('FraserG32883664', 1000)\n",
    "\n",
    "# show total number of tweets\n",
    "print(\"Total Tweets fetched:\", len(user7))\n",
    "\n",
    "# show the dataframe\n",
    "user7.head()"
   ],
   "metadata": {
    "collapsed": false,
    "pycharm": {
     "name": "#%%\n"
    }
   }
  },
  {
   "cell_type": "code",
   "execution_count": 72,
   "outputs": [],
   "source": [
    "# export dataframe to csv file\n",
    "user7.to_csv('C:/Users/tivon/projects/twitter_project/data/user_tweets_fraserg32883664.csv', index = False)"
   ],
   "metadata": {
    "collapsed": false,
    "pycharm": {
     "name": "#%%\n"
    }
   }
  },
  {
   "cell_type": "markdown",
   "source": [
    "### user8\n",
    "screen_name = @pah1974"
   ],
   "metadata": {
    "collapsed": false,
    "pycharm": {
     "name": "#%% md\n"
    }
   }
  },
  {
   "cell_type": "code",
   "execution_count": 29,
   "outputs": [
    {
     "name": "stdout",
     "output_type": "stream",
     "text": [
      "Total Tweets fetched: 322\n"
     ]
    },
    {
     "data": {
      "text/plain": "                 created_at user_name  \\\n0 2022-03-16 11:13:00+00:00   pah1974   \n1 2022-03-16 11:10:12+00:00   pah1974   \n2 2022-03-16 11:07:34+00:00   pah1974   \n3 2022-03-16 11:06:01+00:00   pah1974   \n4 2022-03-10 19:06:17+00:00   pah1974   \n\n                                         description user_location  \\\n0  ship spotter.posting pics and video's of ships...                 \n1  ship spotter.posting pics and video's of ships...                 \n2  ship spotter.posting pics and video's of ships...                 \n3  ship spotter.posting pics and video's of ships...                 \n4  ship spotter.posting pics and video's of ships...                 \n\n                                                text language hashtags  \\\n0  Dfds TULIPA SEAWAYS departing the Port of Feli...       en     None   \n1  Ro-Ro ship ML FREYJA heading for the old navy ...       en     None   \n2  Empty feeder containership A LA MARINE heading...       en     None   \n3  MAERSK KLEVIN departing the Port of Felixstowe...       en     None   \n4  Tug RT PETER between Gravesend and Tilbury 10/...       en     None   \n\n                                           media_url place  \n0  [https://pbs.twimg.com/media/FN94ED5XsAo6hYU.jpg]  None  \n1  [https://pbs.twimg.com/media/FN93RW2WUAEfQLD.jpg]  None  \n2  [https://pbs.twimg.com/media/FN921a4WQAsHdSO.jpg]  None  \n3  [https://pbs.twimg.com/media/FN92blCXsAoe-zR.jpg]  None  \n4  [https://pbs.twimg.com/media/FNgq1iHXEAMqq6z.jpg]  None  ",
      "text/html": "<div>\n<style scoped>\n    .dataframe tbody tr th:only-of-type {\n        vertical-align: middle;\n    }\n\n    .dataframe tbody tr th {\n        vertical-align: top;\n    }\n\n    .dataframe thead th {\n        text-align: right;\n    }\n</style>\n<table border=\"1\" class=\"dataframe\">\n  <thead>\n    <tr style=\"text-align: right;\">\n      <th></th>\n      <th>created_at</th>\n      <th>user_name</th>\n      <th>description</th>\n      <th>user_location</th>\n      <th>text</th>\n      <th>language</th>\n      <th>hashtags</th>\n      <th>media_url</th>\n      <th>place</th>\n    </tr>\n  </thead>\n  <tbody>\n    <tr>\n      <th>0</th>\n      <td>2022-03-16 11:13:00+00:00</td>\n      <td>pah1974</td>\n      <td>ship spotter.posting pics and video's of ships...</td>\n      <td></td>\n      <td>Dfds TULIPA SEAWAYS departing the Port of Feli...</td>\n      <td>en</td>\n      <td>None</td>\n      <td>[https://pbs.twimg.com/media/FN94ED5XsAo6hYU.jpg]</td>\n      <td>None</td>\n    </tr>\n    <tr>\n      <th>1</th>\n      <td>2022-03-16 11:10:12+00:00</td>\n      <td>pah1974</td>\n      <td>ship spotter.posting pics and video's of ships...</td>\n      <td></td>\n      <td>Ro-Ro ship ML FREYJA heading for the old navy ...</td>\n      <td>en</td>\n      <td>None</td>\n      <td>[https://pbs.twimg.com/media/FN93RW2WUAEfQLD.jpg]</td>\n      <td>None</td>\n    </tr>\n    <tr>\n      <th>2</th>\n      <td>2022-03-16 11:07:34+00:00</td>\n      <td>pah1974</td>\n      <td>ship spotter.posting pics and video's of ships...</td>\n      <td></td>\n      <td>Empty feeder containership A LA MARINE heading...</td>\n      <td>en</td>\n      <td>None</td>\n      <td>[https://pbs.twimg.com/media/FN921a4WQAsHdSO.jpg]</td>\n      <td>None</td>\n    </tr>\n    <tr>\n      <th>3</th>\n      <td>2022-03-16 11:06:01+00:00</td>\n      <td>pah1974</td>\n      <td>ship spotter.posting pics and video's of ships...</td>\n      <td></td>\n      <td>MAERSK KLEVIN departing the Port of Felixstowe...</td>\n      <td>en</td>\n      <td>None</td>\n      <td>[https://pbs.twimg.com/media/FN92blCXsAoe-zR.jpg]</td>\n      <td>None</td>\n    </tr>\n    <tr>\n      <th>4</th>\n      <td>2022-03-10 19:06:17+00:00</td>\n      <td>pah1974</td>\n      <td>ship spotter.posting pics and video's of ships...</td>\n      <td></td>\n      <td>Tug RT PETER between Gravesend and Tilbury 10/...</td>\n      <td>en</td>\n      <td>None</td>\n      <td>[https://pbs.twimg.com/media/FNgq1iHXEAMqq6z.jpg]</td>\n      <td>None</td>\n    </tr>\n  </tbody>\n</table>\n</div>"
     },
     "execution_count": 29,
     "metadata": {},
     "output_type": "execute_result"
    }
   ],
   "source": [
    "# Use getUserTweets function (screen_name = 'pah1974', count = 1000)\n",
    "user8 = getUserTweets('pah1974', 1000)\n",
    "\n",
    "# show total number of tweets\n",
    "print(\"Total Tweets fetched:\", len(user8))\n",
    "\n",
    "# show the dataframe\n",
    "user8.head()"
   ],
   "metadata": {
    "collapsed": false,
    "pycharm": {
     "name": "#%%\n"
    }
   }
  },
  {
   "cell_type": "code",
   "execution_count": 73,
   "outputs": [],
   "source": [
    "# export dataframe to csv file\n",
    "user8.to_csv('C:/Users/tivon/projects/twitter_project/data/user_tweets_pah1974.csv', index = False)"
   ],
   "metadata": {
    "collapsed": false,
    "pycharm": {
     "name": "#%%\n"
    }
   }
  },
  {
   "cell_type": "markdown",
   "source": [
    "### user9\n",
    "screen_name = @johnmorgan726"
   ],
   "metadata": {
    "collapsed": false,
    "pycharm": {
     "name": "#%% md\n"
    }
   }
  },
  {
   "cell_type": "code",
   "execution_count": 31,
   "outputs": [
    {
     "name": "stdout",
     "output_type": "stream",
     "text": [
      "Total Tweets fetched: 101\n"
     ]
    },
    {
     "data": {
      "text/plain": "                 created_at      user_name  \\\n0 2022-03-27 21:15:03+00:00  johnmorgan726   \n1 2022-03-27 16:13:32+00:00  johnmorgan726   \n2 2022-03-26 21:36:02+00:00  johnmorgan726   \n3 2022-03-26 18:41:33+00:00  johnmorgan726   \n4 2022-03-24 22:27:45+00:00  johnmorgan726   \n\n                                         description       user_location  \\\n0  I enjoy HAM radio, fishing, and maritime traff...  Virginia Beach, VA   \n1  I enjoy HAM radio, fishing, and maritime traff...  Virginia Beach, VA   \n2  I enjoy HAM radio, fishing, and maritime traff...  Virginia Beach, VA   \n3  I enjoy HAM radio, fishing, and maritime traff...  Virginia Beach, VA   \n4  I enjoy HAM radio, fishing, and maritime traff...  Virginia Beach, VA   \n\n                                                text language  \\\n0  RT @Fotogmike: @BraydenCreation https://t.co/R...      und   \n1  RT @Fotogmike: @deftony83 https://t.co/nVRrhLA8sh      und   \n2  @WarshipCam @scottdurham Another view from the...       en   \n3  The #HopperDredger #Stuyvesant IMO:7915838 🇺🇸 ...       en   \n4  RT @Visita_Cortesia: Puente de mando del Sayre...       es   \n\n                                            hashtags  \\\n0                                               None   \n1                                               None   \n2                                               None   \n3  [HopperDredger, Stuyvesant, OffshoreSupplyShip...   \n4                                               None   \n\n                                           media_url  \\\n0  [https://pbs.twimg.com/media/FO4n41NX0Ao4A89.jpg]   \n1  [https://pbs.twimg.com/media/FOzvqhEWUBAnMNB.jpg]   \n2  [https://pbs.twimg.com/media/FOzm1Q7XEAQRl5Y.jpg]   \n3  [https://pbs.twimg.com/media/FOy-5W_WUAo_65c.jpg]   \n4  [https://pbs.twimg.com/media/FOocHmsXsAMhMzD.jpg]   \n\n                                               place  \n0                                               None  \n1                                               None  \n2  Place(_api=<tweepy.api.API object at 0x0000025...  \n3  Place(_api=<tweepy.api.API object at 0x0000025...  \n4                                               None  ",
      "text/html": "<div>\n<style scoped>\n    .dataframe tbody tr th:only-of-type {\n        vertical-align: middle;\n    }\n\n    .dataframe tbody tr th {\n        vertical-align: top;\n    }\n\n    .dataframe thead th {\n        text-align: right;\n    }\n</style>\n<table border=\"1\" class=\"dataframe\">\n  <thead>\n    <tr style=\"text-align: right;\">\n      <th></th>\n      <th>created_at</th>\n      <th>user_name</th>\n      <th>description</th>\n      <th>user_location</th>\n      <th>text</th>\n      <th>language</th>\n      <th>hashtags</th>\n      <th>media_url</th>\n      <th>place</th>\n    </tr>\n  </thead>\n  <tbody>\n    <tr>\n      <th>0</th>\n      <td>2022-03-27 21:15:03+00:00</td>\n      <td>johnmorgan726</td>\n      <td>I enjoy HAM radio, fishing, and maritime traff...</td>\n      <td>Virginia Beach, VA</td>\n      <td>RT @Fotogmike: @BraydenCreation https://t.co/R...</td>\n      <td>und</td>\n      <td>None</td>\n      <td>[https://pbs.twimg.com/media/FO4n41NX0Ao4A89.jpg]</td>\n      <td>None</td>\n    </tr>\n    <tr>\n      <th>1</th>\n      <td>2022-03-27 16:13:32+00:00</td>\n      <td>johnmorgan726</td>\n      <td>I enjoy HAM radio, fishing, and maritime traff...</td>\n      <td>Virginia Beach, VA</td>\n      <td>RT @Fotogmike: @deftony83 https://t.co/nVRrhLA8sh</td>\n      <td>und</td>\n      <td>None</td>\n      <td>[https://pbs.twimg.com/media/FOzvqhEWUBAnMNB.jpg]</td>\n      <td>None</td>\n    </tr>\n    <tr>\n      <th>2</th>\n      <td>2022-03-26 21:36:02+00:00</td>\n      <td>johnmorgan726</td>\n      <td>I enjoy HAM radio, fishing, and maritime traff...</td>\n      <td>Virginia Beach, VA</td>\n      <td>@WarshipCam @scottdurham Another view from the...</td>\n      <td>en</td>\n      <td>None</td>\n      <td>[https://pbs.twimg.com/media/FOzm1Q7XEAQRl5Y.jpg]</td>\n      <td>Place(_api=&lt;tweepy.api.API object at 0x0000025...</td>\n    </tr>\n    <tr>\n      <th>3</th>\n      <td>2022-03-26 18:41:33+00:00</td>\n      <td>johnmorgan726</td>\n      <td>I enjoy HAM radio, fishing, and maritime traff...</td>\n      <td>Virginia Beach, VA</td>\n      <td>The #HopperDredger #Stuyvesant IMO:7915838 🇺🇸 ...</td>\n      <td>en</td>\n      <td>[HopperDredger, Stuyvesant, OffshoreSupplyShip...</td>\n      <td>[https://pbs.twimg.com/media/FOy-5W_WUAo_65c.jpg]</td>\n      <td>Place(_api=&lt;tweepy.api.API object at 0x0000025...</td>\n    </tr>\n    <tr>\n      <th>4</th>\n      <td>2022-03-24 22:27:45+00:00</td>\n      <td>johnmorgan726</td>\n      <td>I enjoy HAM radio, fishing, and maritime traff...</td>\n      <td>Virginia Beach, VA</td>\n      <td>RT @Visita_Cortesia: Puente de mando del Sayre...</td>\n      <td>es</td>\n      <td>None</td>\n      <td>[https://pbs.twimg.com/media/FOocHmsXsAMhMzD.jpg]</td>\n      <td>None</td>\n    </tr>\n  </tbody>\n</table>\n</div>"
     },
     "execution_count": 31,
     "metadata": {},
     "output_type": "execute_result"
    }
   ],
   "source": [
    "# Use getUserTweets function (screen_name = 'johnmorgan726', count = 1000)\n",
    "user9 = getUserTweets('johnmorgan726', 1000)\n",
    "\n",
    "# show total number of tweets\n",
    "print(\"Total Tweets fetched:\", len(user9))\n",
    "\n",
    "# show the dataframe\n",
    "user9.head()"
   ],
   "metadata": {
    "collapsed": false,
    "pycharm": {
     "name": "#%%\n"
    }
   }
  },
  {
   "cell_type": "code",
   "execution_count": 74,
   "outputs": [],
   "source": [
    "# export dataframe to csv file\n",
    "user9.to_csv('C:/Users/tivon/projects/twitter_project/data/user_tweets_johnmorgan726.csv', index = False)"
   ],
   "metadata": {
    "collapsed": false,
    "pycharm": {
     "name": "#%%\n"
    }
   }
  },
  {
   "cell_type": "markdown",
   "source": [
    "### user10\n",
    "screen_name = @MaritimePhotos"
   ],
   "metadata": {
    "collapsed": false,
    "pycharm": {
     "name": "#%% md\n"
    }
   }
  },
  {
   "cell_type": "code",
   "execution_count": 33,
   "outputs": [
    {
     "name": "stdout",
     "output_type": "stream",
     "text": [
      "Total Tweets fetched: 412\n"
     ]
    },
    {
     "data": {
      "text/plain": "                 created_at       user_name  \\\n0 2022-03-25 07:49:23+00:00  MaritimePhotos   \n1 2022-03-21 08:25:27+00:00  MaritimePhotos   \n2 2022-03-21 08:21:18+00:00  MaritimePhotos   \n3 2022-03-11 13:05:13+00:00  MaritimePhotos   \n4 2022-03-10 09:26:14+00:00  MaritimePhotos   \n\n                                         description        user_location  \\\n0  Freelance photographer providing creative imag...  Portsmouth, England   \n1  Freelance photographer providing creative imag...  Portsmouth, England   \n2  Freelance photographer providing creative imag...  Portsmouth, England   \n3  Freelance photographer providing creative imag...  Portsmouth, England   \n4  Freelance photographer providing creative imag...  Portsmouth, England   \n\n                                                text language  \\\n0  Maiden call of @BrittanyFerries @PortsmouthPor...       en   \n1  Bonjour and good morning! @BrittanyFerries #Ba...       en   \n2  The @VirginVoyages #ValiantLady returning @Por...       en   \n3  Arrival of @RFAWaveKnight for lay-up. #Portsmo...       en   \n4  Back to sea for @HMSQNLZ. Both RN aircraft car...       en   \n\n                             hashtags  \\\n0  [Salamanca, Portsmouth, ferrynews]   \n1                   [Barfleur, ferry]   \n2           [ValiantLady, Portsmouth]   \n3                        [Portsmouth]   \n4                        [Portsmouth]   \n\n                                           media_url place  \n0  [https://pbs.twimg.com/media/FOrf-taX0AE2Uwg.jpg]  None  \n1  [https://pbs.twimg.com/media/FOXBU_fXEAA4pjg.jpg]  None  \n2  [https://pbs.twimg.com/media/FOXAtgNXoAIz7pB.jpg]  None  \n3  [https://pbs.twimg.com/media/FNkhe_pWUAEuZJu.jpg]  None  \n4  [https://pbs.twimg.com/media/FNel5KeXIAEcBKx.jpg]  None  ",
      "text/html": "<div>\n<style scoped>\n    .dataframe tbody tr th:only-of-type {\n        vertical-align: middle;\n    }\n\n    .dataframe tbody tr th {\n        vertical-align: top;\n    }\n\n    .dataframe thead th {\n        text-align: right;\n    }\n</style>\n<table border=\"1\" class=\"dataframe\">\n  <thead>\n    <tr style=\"text-align: right;\">\n      <th></th>\n      <th>created_at</th>\n      <th>user_name</th>\n      <th>description</th>\n      <th>user_location</th>\n      <th>text</th>\n      <th>language</th>\n      <th>hashtags</th>\n      <th>media_url</th>\n      <th>place</th>\n    </tr>\n  </thead>\n  <tbody>\n    <tr>\n      <th>0</th>\n      <td>2022-03-25 07:49:23+00:00</td>\n      <td>MaritimePhotos</td>\n      <td>Freelance photographer providing creative imag...</td>\n      <td>Portsmouth, England</td>\n      <td>Maiden call of @BrittanyFerries @PortsmouthPor...</td>\n      <td>en</td>\n      <td>[Salamanca, Portsmouth, ferrynews]</td>\n      <td>[https://pbs.twimg.com/media/FOrf-taX0AE2Uwg.jpg]</td>\n      <td>None</td>\n    </tr>\n    <tr>\n      <th>1</th>\n      <td>2022-03-21 08:25:27+00:00</td>\n      <td>MaritimePhotos</td>\n      <td>Freelance photographer providing creative imag...</td>\n      <td>Portsmouth, England</td>\n      <td>Bonjour and good morning! @BrittanyFerries #Ba...</td>\n      <td>en</td>\n      <td>[Barfleur, ferry]</td>\n      <td>[https://pbs.twimg.com/media/FOXBU_fXEAA4pjg.jpg]</td>\n      <td>None</td>\n    </tr>\n    <tr>\n      <th>2</th>\n      <td>2022-03-21 08:21:18+00:00</td>\n      <td>MaritimePhotos</td>\n      <td>Freelance photographer providing creative imag...</td>\n      <td>Portsmouth, England</td>\n      <td>The @VirginVoyages #ValiantLady returning @Por...</td>\n      <td>en</td>\n      <td>[ValiantLady, Portsmouth]</td>\n      <td>[https://pbs.twimg.com/media/FOXAtgNXoAIz7pB.jpg]</td>\n      <td>None</td>\n    </tr>\n    <tr>\n      <th>3</th>\n      <td>2022-03-11 13:05:13+00:00</td>\n      <td>MaritimePhotos</td>\n      <td>Freelance photographer providing creative imag...</td>\n      <td>Portsmouth, England</td>\n      <td>Arrival of @RFAWaveKnight for lay-up. #Portsmo...</td>\n      <td>en</td>\n      <td>[Portsmouth]</td>\n      <td>[https://pbs.twimg.com/media/FNkhe_pWUAEuZJu.jpg]</td>\n      <td>None</td>\n    </tr>\n    <tr>\n      <th>4</th>\n      <td>2022-03-10 09:26:14+00:00</td>\n      <td>MaritimePhotos</td>\n      <td>Freelance photographer providing creative imag...</td>\n      <td>Portsmouth, England</td>\n      <td>Back to sea for @HMSQNLZ. Both RN aircraft car...</td>\n      <td>en</td>\n      <td>[Portsmouth]</td>\n      <td>[https://pbs.twimg.com/media/FNel5KeXIAEcBKx.jpg]</td>\n      <td>None</td>\n    </tr>\n  </tbody>\n</table>\n</div>"
     },
     "execution_count": 33,
     "metadata": {},
     "output_type": "execute_result"
    }
   ],
   "source": [
    "# Use getUserTweets function (screen_name = 'MaritimePhotos', count = 1000)\n",
    "user10 = getUserTweets('MaritimePhotos', 1000)\n",
    "\n",
    "# show total number of tweets\n",
    "print(\"Total Tweets fetched:\", len(user10))\n",
    "\n",
    "# show the dataframe\n",
    "user10.head()"
   ],
   "metadata": {
    "collapsed": false,
    "pycharm": {
     "name": "#%%\n"
    }
   }
  },
  {
   "cell_type": "code",
   "execution_count": 75,
   "outputs": [],
   "source": [
    "# export dataframe to csv file\n",
    "user10.to_csv('C:/Users/tivon/projects/twitter_project/data/user_tweets_maritimephotos.csv', index = False)"
   ],
   "metadata": {
    "collapsed": false,
    "pycharm": {
     "name": "#%%\n"
    }
   }
  },
  {
   "cell_type": "markdown",
   "source": [
    "### user11\n",
    "screen_name = @ManuelHdezLaf"
   ],
   "metadata": {
    "collapsed": false,
    "pycharm": {
     "name": "#%% md\n"
    }
   }
  },
  {
   "cell_type": "code",
   "execution_count": 57,
   "outputs": [
    {
     "name": "stdout",
     "output_type": "stream",
     "text": [
      "Total Tweets fetched: 132\n"
     ]
    },
    {
     "data": {
      "text/plain": "                 created_at      user_name  \\\n0 2022-03-27 16:25:29+00:00  ManuelHdezLaf   \n1 2022-03-27 11:14:10+00:00  ManuelHdezLaf   \n2 2022-03-26 11:23:20+00:00  ManuelHdezLaf   \n3 2022-03-24 06:42:32+00:00  ManuelHdezLaf   \n4 2022-03-23 06:28:57+00:00  ManuelHdezLaf   \n\n                                         description     user_location  \\\n0  Capitán de la Marina Mercante, jubilado. Fotog...  Valencia, España   \n1  Capitán de la Marina Mercante, jubilado. Fotog...  Valencia, España   \n2  Capitán de la Marina Mercante, jubilado. Fotog...  Valencia, España   \n3  Capitán de la Marina Mercante, jubilado. Fotog...  Valencia, España   \n4  Capitán de la Marina Mercante, jubilado. Fotog...  Valencia, España   \n\n                                                text language  \\\n0  #Plantaginaceae\\n#Antirrhinum litigiosum Pau /...       ca   \n1  Les Cases de l'Onyar #Girona\\nhttps://t.co/GF4...       ca   \n2  Dársena Nacional del Puerto de Barcelona\\nhttp...       es   \n3  Parque Güell. El 'árbol seco' del viaducto.\\nh...       es   \n4  Costa Quebrada\\nhttps://t.co/eCUNZxjYQi https:...       es   \n\n                        hashtags  \\\n0  [Plantaginaceae, Antirrhinum]   \n1                       [Girona]   \n2                           None   \n3                           None   \n4                           None   \n\n                                           media_url place  \n0  [https://pbs.twimg.com/media/FO3pVVmX0AUBPQF.jpg]  None  \n1  [https://pbs.twimg.com/media/FO2iCpYXsAAoPkm.jpg]  None  \n2  [https://pbs.twimg.com/media/FOxak9mWUAAVX2E.jpg]  None  \n3  [https://pbs.twimg.com/media/FOmHCriWYAE77qz.jpg]  None  \n4  [https://pbs.twimg.com/media/FOg6alnWQAY7a_b.jpg]  None  ",
      "text/html": "<div>\n<style scoped>\n    .dataframe tbody tr th:only-of-type {\n        vertical-align: middle;\n    }\n\n    .dataframe tbody tr th {\n        vertical-align: top;\n    }\n\n    .dataframe thead th {\n        text-align: right;\n    }\n</style>\n<table border=\"1\" class=\"dataframe\">\n  <thead>\n    <tr style=\"text-align: right;\">\n      <th></th>\n      <th>created_at</th>\n      <th>user_name</th>\n      <th>description</th>\n      <th>user_location</th>\n      <th>text</th>\n      <th>language</th>\n      <th>hashtags</th>\n      <th>media_url</th>\n      <th>place</th>\n    </tr>\n  </thead>\n  <tbody>\n    <tr>\n      <th>0</th>\n      <td>2022-03-27 16:25:29+00:00</td>\n      <td>ManuelHdezLaf</td>\n      <td>Capitán de la Marina Mercante, jubilado. Fotog...</td>\n      <td>Valencia, España</td>\n      <td>#Plantaginaceae\\n#Antirrhinum litigiosum Pau /...</td>\n      <td>ca</td>\n      <td>[Plantaginaceae, Antirrhinum]</td>\n      <td>[https://pbs.twimg.com/media/FO3pVVmX0AUBPQF.jpg]</td>\n      <td>None</td>\n    </tr>\n    <tr>\n      <th>1</th>\n      <td>2022-03-27 11:14:10+00:00</td>\n      <td>ManuelHdezLaf</td>\n      <td>Capitán de la Marina Mercante, jubilado. Fotog...</td>\n      <td>Valencia, España</td>\n      <td>Les Cases de l'Onyar #Girona\\nhttps://t.co/GF4...</td>\n      <td>ca</td>\n      <td>[Girona]</td>\n      <td>[https://pbs.twimg.com/media/FO2iCpYXsAAoPkm.jpg]</td>\n      <td>None</td>\n    </tr>\n    <tr>\n      <th>2</th>\n      <td>2022-03-26 11:23:20+00:00</td>\n      <td>ManuelHdezLaf</td>\n      <td>Capitán de la Marina Mercante, jubilado. Fotog...</td>\n      <td>Valencia, España</td>\n      <td>Dársena Nacional del Puerto de Barcelona\\nhttp...</td>\n      <td>es</td>\n      <td>None</td>\n      <td>[https://pbs.twimg.com/media/FOxak9mWUAAVX2E.jpg]</td>\n      <td>None</td>\n    </tr>\n    <tr>\n      <th>3</th>\n      <td>2022-03-24 06:42:32+00:00</td>\n      <td>ManuelHdezLaf</td>\n      <td>Capitán de la Marina Mercante, jubilado. Fotog...</td>\n      <td>Valencia, España</td>\n      <td>Parque Güell. El 'árbol seco' del viaducto.\\nh...</td>\n      <td>es</td>\n      <td>None</td>\n      <td>[https://pbs.twimg.com/media/FOmHCriWYAE77qz.jpg]</td>\n      <td>None</td>\n    </tr>\n    <tr>\n      <th>4</th>\n      <td>2022-03-23 06:28:57+00:00</td>\n      <td>ManuelHdezLaf</td>\n      <td>Capitán de la Marina Mercante, jubilado. Fotog...</td>\n      <td>Valencia, España</td>\n      <td>Costa Quebrada\\nhttps://t.co/eCUNZxjYQi https:...</td>\n      <td>es</td>\n      <td>None</td>\n      <td>[https://pbs.twimg.com/media/FOg6alnWQAY7a_b.jpg]</td>\n      <td>None</td>\n    </tr>\n  </tbody>\n</table>\n</div>"
     },
     "execution_count": 57,
     "metadata": {},
     "output_type": "execute_result"
    }
   ],
   "source": [
    "# Use getUserTweets function (screen_name = 'ManuelHdezLaf', count = 1000)\n",
    "user11 = getUserTweets('ManuelHdezLaf', 1000)\n",
    "\n",
    "# show total number of tweets\n",
    "print(\"Total Tweets fetched:\", len(user11))\n",
    "\n",
    "# show the dataframe\n",
    "user11.head()"
   ],
   "metadata": {
    "collapsed": false,
    "pycharm": {
     "name": "#%%\n"
    }
   }
  },
  {
   "cell_type": "code",
   "execution_count": 76,
   "outputs": [],
   "source": [
    "# export dataframe to csv file\n",
    "user11.to_csv('C:/Users/tivon/projects/twitter_project/data/user_tweets_manuelhdezlaf.csv', index = False)"
   ],
   "metadata": {
    "collapsed": false,
    "pycharm": {
     "name": "#%%\n"
    }
   }
  },
  {
   "cell_type": "markdown",
   "source": [
    "### user12\n",
    "screen_name = @shipsphotos"
   ],
   "metadata": {
    "collapsed": false,
    "pycharm": {
     "name": "#%% md\n"
    }
   }
  },
  {
   "cell_type": "code",
   "execution_count": 59,
   "outputs": [
    {
     "name": "stdout",
     "output_type": "stream",
     "text": [
      "Total Tweets fetched: 219\n"
     ]
    },
    {
     "data": {
      "text/plain": "                 created_at    user_name  \\\n0 2022-03-25 11:34:55+00:00  shipsphotos   \n1 2022-03-20 21:59:33+00:00  shipsphotos   \n2 2022-03-19 10:53:08+00:00  shipsphotos   \n3 2022-03-17 17:37:58+00:00  shipsphotos   \n4 2022-03-15 08:04:38+00:00  shipsphotos   \n\n                                         description   user_location  \\\n0  🇪🇸 Based in Spain 📷 Amateur photographer 🚢 Shi...  Tarifa, España   \n1  🇪🇸 Based in Spain 📷 Amateur photographer 🚢 Shi...  Tarifa, España   \n2  🇪🇸 Based in Spain 📷 Amateur photographer 🚢 Shi...  Tarifa, España   \n3  🇪🇸 Based in Spain 📷 Amateur photographer 🚢 Shi...  Tarifa, España   \n4  🇪🇸 Based in Spain 📷 Amateur photographer 🚢 Shi...  Tarifa, España   \n\n                                                text language  \\\n0  Embarcación de prácticos @AlgecirasPilots neve...       es   \n1  RT @Visita_Cortesia: Ferry GNV Bridge atracado...       es   \n2  Ship to ship MOUNT OLYMPUS 🇲🇭 and B. STAR 🇲🇭 a...       en   \n3  Un POETA LOPEZ ANGLADA 🇨🇾 @Balearia con ganas ...       es   \n4  @agusjesgarsan @PuertoAlgeciras @BarcosporCadi...       es   \n\n                              hashtags  \\\n0                [pilot, boat, rawsea]   \n1                                 None   \n2  [oiltankers, shiptoship, Gibraltar]   \n3      [ferry, fotonocturna, balearia]   \n4                                 None   \n\n                                           media_url place  \n0  [https://pbs.twimg.com/media/FOsTGzGXIAENfzw.jpg]  None  \n1  [https://pbs.twimg.com/media/FOUTTQyWQAQkBXV.jpg]  None  \n2  [https://pbs.twimg.com/media/FONQRdJXoAI8US3.jpg]  None  \n3  [https://pbs.twimg.com/media/FOEaCSGXMAc1Bb5.jpg]  None  \n4  [https://pbs.twimg.com/tweet_video_thumb/FN4Do...  None  ",
      "text/html": "<div>\n<style scoped>\n    .dataframe tbody tr th:only-of-type {\n        vertical-align: middle;\n    }\n\n    .dataframe tbody tr th {\n        vertical-align: top;\n    }\n\n    .dataframe thead th {\n        text-align: right;\n    }\n</style>\n<table border=\"1\" class=\"dataframe\">\n  <thead>\n    <tr style=\"text-align: right;\">\n      <th></th>\n      <th>created_at</th>\n      <th>user_name</th>\n      <th>description</th>\n      <th>user_location</th>\n      <th>text</th>\n      <th>language</th>\n      <th>hashtags</th>\n      <th>media_url</th>\n      <th>place</th>\n    </tr>\n  </thead>\n  <tbody>\n    <tr>\n      <th>0</th>\n      <td>2022-03-25 11:34:55+00:00</td>\n      <td>shipsphotos</td>\n      <td>🇪🇸 Based in Spain 📷 Amateur photographer 🚢 Shi...</td>\n      <td>Tarifa, España</td>\n      <td>Embarcación de prácticos @AlgecirasPilots neve...</td>\n      <td>es</td>\n      <td>[pilot, boat, rawsea]</td>\n      <td>[https://pbs.twimg.com/media/FOsTGzGXIAENfzw.jpg]</td>\n      <td>None</td>\n    </tr>\n    <tr>\n      <th>1</th>\n      <td>2022-03-20 21:59:33+00:00</td>\n      <td>shipsphotos</td>\n      <td>🇪🇸 Based in Spain 📷 Amateur photographer 🚢 Shi...</td>\n      <td>Tarifa, España</td>\n      <td>RT @Visita_Cortesia: Ferry GNV Bridge atracado...</td>\n      <td>es</td>\n      <td>None</td>\n      <td>[https://pbs.twimg.com/media/FOUTTQyWQAQkBXV.jpg]</td>\n      <td>None</td>\n    </tr>\n    <tr>\n      <th>2</th>\n      <td>2022-03-19 10:53:08+00:00</td>\n      <td>shipsphotos</td>\n      <td>🇪🇸 Based in Spain 📷 Amateur photographer 🚢 Shi...</td>\n      <td>Tarifa, España</td>\n      <td>Ship to ship MOUNT OLYMPUS 🇲🇭 and B. STAR 🇲🇭 a...</td>\n      <td>en</td>\n      <td>[oiltankers, shiptoship, Gibraltar]</td>\n      <td>[https://pbs.twimg.com/media/FONQRdJXoAI8US3.jpg]</td>\n      <td>None</td>\n    </tr>\n    <tr>\n      <th>3</th>\n      <td>2022-03-17 17:37:58+00:00</td>\n      <td>shipsphotos</td>\n      <td>🇪🇸 Based in Spain 📷 Amateur photographer 🚢 Shi...</td>\n      <td>Tarifa, España</td>\n      <td>Un POETA LOPEZ ANGLADA 🇨🇾 @Balearia con ganas ...</td>\n      <td>es</td>\n      <td>[ferry, fotonocturna, balearia]</td>\n      <td>[https://pbs.twimg.com/media/FOEaCSGXMAc1Bb5.jpg]</td>\n      <td>None</td>\n    </tr>\n    <tr>\n      <th>4</th>\n      <td>2022-03-15 08:04:38+00:00</td>\n      <td>shipsphotos</td>\n      <td>🇪🇸 Based in Spain 📷 Amateur photographer 🚢 Shi...</td>\n      <td>Tarifa, España</td>\n      <td>@agusjesgarsan @PuertoAlgeciras @BarcosporCadi...</td>\n      <td>es</td>\n      <td>None</td>\n      <td>[https://pbs.twimg.com/tweet_video_thumb/FN4Do...</td>\n      <td>None</td>\n    </tr>\n  </tbody>\n</table>\n</div>"
     },
     "execution_count": 59,
     "metadata": {},
     "output_type": "execute_result"
    }
   ],
   "source": [
    "# Use getUserTweets function (screen_name = 'shipsphotos', count = 1000)\n",
    "user12 = getUserTweets('shipsphotos', 1000)\n",
    "\n",
    "# show total number of tweets\n",
    "print(\"Total Tweets fetched:\", len(user12))\n",
    "\n",
    "# show the dataframe\n",
    "user12.head()"
   ],
   "metadata": {
    "collapsed": false,
    "pycharm": {
     "name": "#%%\n"
    }
   }
  },
  {
   "cell_type": "code",
   "execution_count": 77,
   "outputs": [],
   "source": [
    "# export dataframe to csv file\n",
    "user12.to_csv('C:/Users/tivon/projects/twitter_project/data/user_tweets_shipsphotos.csv', index = False)"
   ],
   "metadata": {
    "collapsed": false,
    "pycharm": {
     "name": "#%%\n"
    }
   }
  },
  {
   "cell_type": "markdown",
   "source": [
    "### user13\n",
    "screen_name = @HHshipspotting"
   ],
   "metadata": {
    "collapsed": false,
    "pycharm": {
     "name": "#%% md\n"
    }
   }
  },
  {
   "cell_type": "code",
   "execution_count": 61,
   "outputs": [
    {
     "name": "stdout",
     "output_type": "stream",
     "text": [
      "Total Tweets fetched: 41\n"
     ]
    },
    {
     "data": {
      "text/plain": "                 created_at       user_name  \\\n0 2020-10-08 15:48:00+00:00  HHshipspotting   \n1 2020-09-01 20:30:11+00:00  HHshipspotting   \n2 2020-08-11 13:19:49+00:00  HHshipspotting   \n3 2020-08-04 13:42:51+00:00  HHshipspotting   \n4 2020-08-02 12:03:32+00:00  HHshipspotting   \n\n                                         description     user_location  \\\n0  Shipping activity around Hamburg Harbor\\nTips ...  Hamburg, Germany   \n1  Shipping activity around Hamburg Harbor\\nTips ...  Hamburg, Germany   \n2  Shipping activity around Hamburg Harbor\\nTips ...  Hamburg, Germany   \n3  Shipping activity around Hamburg Harbor\\nTips ...  Hamburg, Germany   \n4  Shipping activity around Hamburg Harbor\\nTips ...  Hamburg, Germany   \n\n                                                text language  \\\n0  Dignity Ace, #Vehicle Carrier 200x32m, towed b...       en   \n1  Icy #Elbe river on a sunny #winter day, #Hambu...       en   \n2  Alexander von Humboldt, Hopper #Dredger, Jan d...       nl   \n3  Sunset at Museumshafen Oevelgönne, #Hamburg\\n2...       de   \n4  Viking Destiny passing by #StPauli Fischmarkt....       en   \n\n                            hashtags  \\\n0  [Vehicle, tugboat, port, hamburg]   \n1            [Elbe, winter, Hamburg]   \n2                 [Dredger, Hamburg]   \n3                          [Hamburg]   \n4                 [StPauli, Hamburg]   \n\n                                           media_url place  \n0  [https://pbs.twimg.com/media/EjzFb_XWoAAnrrb.jpg]  None  \n1  [https://pbs.twimg.com/media/Eg2zjuLXcAIQGK3.jpg]  None  \n2  [https://pbs.twimg.com/media/EfJHyDRWAAEcBKH.jpg]  None  \n3  [https://pbs.twimg.com/media/EelKGcYXYAESzVT.jpg]  None  \n4  [https://pbs.twimg.com/media/EeafoMMWoAAd-BJ.jpg]  None  ",
      "text/html": "<div>\n<style scoped>\n    .dataframe tbody tr th:only-of-type {\n        vertical-align: middle;\n    }\n\n    .dataframe tbody tr th {\n        vertical-align: top;\n    }\n\n    .dataframe thead th {\n        text-align: right;\n    }\n</style>\n<table border=\"1\" class=\"dataframe\">\n  <thead>\n    <tr style=\"text-align: right;\">\n      <th></th>\n      <th>created_at</th>\n      <th>user_name</th>\n      <th>description</th>\n      <th>user_location</th>\n      <th>text</th>\n      <th>language</th>\n      <th>hashtags</th>\n      <th>media_url</th>\n      <th>place</th>\n    </tr>\n  </thead>\n  <tbody>\n    <tr>\n      <th>0</th>\n      <td>2020-10-08 15:48:00+00:00</td>\n      <td>HHshipspotting</td>\n      <td>Shipping activity around Hamburg Harbor\\nTips ...</td>\n      <td>Hamburg, Germany</td>\n      <td>Dignity Ace, #Vehicle Carrier 200x32m, towed b...</td>\n      <td>en</td>\n      <td>[Vehicle, tugboat, port, hamburg]</td>\n      <td>[https://pbs.twimg.com/media/EjzFb_XWoAAnrrb.jpg]</td>\n      <td>None</td>\n    </tr>\n    <tr>\n      <th>1</th>\n      <td>2020-09-01 20:30:11+00:00</td>\n      <td>HHshipspotting</td>\n      <td>Shipping activity around Hamburg Harbor\\nTips ...</td>\n      <td>Hamburg, Germany</td>\n      <td>Icy #Elbe river on a sunny #winter day, #Hambu...</td>\n      <td>en</td>\n      <td>[Elbe, winter, Hamburg]</td>\n      <td>[https://pbs.twimg.com/media/Eg2zjuLXcAIQGK3.jpg]</td>\n      <td>None</td>\n    </tr>\n    <tr>\n      <th>2</th>\n      <td>2020-08-11 13:19:49+00:00</td>\n      <td>HHshipspotting</td>\n      <td>Shipping activity around Hamburg Harbor\\nTips ...</td>\n      <td>Hamburg, Germany</td>\n      <td>Alexander von Humboldt, Hopper #Dredger, Jan d...</td>\n      <td>nl</td>\n      <td>[Dredger, Hamburg]</td>\n      <td>[https://pbs.twimg.com/media/EfJHyDRWAAEcBKH.jpg]</td>\n      <td>None</td>\n    </tr>\n    <tr>\n      <th>3</th>\n      <td>2020-08-04 13:42:51+00:00</td>\n      <td>HHshipspotting</td>\n      <td>Shipping activity around Hamburg Harbor\\nTips ...</td>\n      <td>Hamburg, Germany</td>\n      <td>Sunset at Museumshafen Oevelgönne, #Hamburg\\n2...</td>\n      <td>de</td>\n      <td>[Hamburg]</td>\n      <td>[https://pbs.twimg.com/media/EelKGcYXYAESzVT.jpg]</td>\n      <td>None</td>\n    </tr>\n    <tr>\n      <th>4</th>\n      <td>2020-08-02 12:03:32+00:00</td>\n      <td>HHshipspotting</td>\n      <td>Shipping activity around Hamburg Harbor\\nTips ...</td>\n      <td>Hamburg, Germany</td>\n      <td>Viking Destiny passing by #StPauli Fischmarkt....</td>\n      <td>en</td>\n      <td>[StPauli, Hamburg]</td>\n      <td>[https://pbs.twimg.com/media/EeafoMMWoAAd-BJ.jpg]</td>\n      <td>None</td>\n    </tr>\n  </tbody>\n</table>\n</div>"
     },
     "execution_count": 61,
     "metadata": {},
     "output_type": "execute_result"
    }
   ],
   "source": [
    "# Use getUserTweets function (screen_name = 'HHshipspotting', count = 1000)\n",
    "user13 = getUserTweets('HHshipspotting', 1000)\n",
    "\n",
    "# show total number of tweets\n",
    "print(\"Total Tweets fetched:\", len(user13))\n",
    "\n",
    "# show the dataframe\n",
    "user13.head()"
   ],
   "metadata": {
    "collapsed": false,
    "pycharm": {
     "name": "#%%\n"
    }
   }
  },
  {
   "cell_type": "code",
   "execution_count": 78,
   "outputs": [],
   "source": [
    "# export dataframe to csv file\n",
    "user13.to_csv('C:/Users/tivon/projects/twitter_project/data/user_tweets_hhshipspotting.csv', index = False)"
   ],
   "metadata": {
    "collapsed": false,
    "pycharm": {
     "name": "#%%\n"
    }
   }
  },
  {
   "cell_type": "markdown",
   "source": [
    "### user14\n",
    "screen_name = @CargoShipVoyage"
   ],
   "metadata": {
    "collapsed": false,
    "pycharm": {
     "name": "#%% md\n"
    }
   }
  },
  {
   "cell_type": "code",
   "execution_count": 93,
   "outputs": [
    {
     "name": "stdout",
     "output_type": "stream",
     "text": [
      "Total Tweets fetched: 74\n"
     ]
    },
    {
     "data": {
      "text/plain": "                 created_at        user_name  \\\n0 2020-09-25 10:00:23+00:00  CargoShipVoyage   \n1 2020-05-08 21:09:58+00:00  CargoShipVoyage   \n2 2020-03-23 19:51:03+00:00  CargoShipVoyage   \n3 2017-10-15 12:00:37+00:00  CargoShipVoyage   \n4 2016-07-05 21:05:56+00:00  CargoShipVoyage   \n\n                                         description user_location  \\\n0  Purveyors of sea travel since 1993, we are wor...     Cowes, UK   \n1  Purveyors of sea travel since 1993, we are wor...     Cowes, UK   \n2  Purveyors of sea travel since 1993, we are wor...     Cowes, UK   \n3  Purveyors of sea travel since 1993, we are wor...     Cowes, UK   \n4  Purveyors of sea travel since 1993, we are wor...     Cowes, UK   \n\n                                                text language  \\\n0  We're very much open for enquiries and booking...       en   \n1                            https://t.co/EfvKsdkFhp      und   \n2  RT @Humansatsea: Stay inside your home. we are...       en   \n3  RT @careersatsea: New day. New adventure. Be a...       en   \n4  RT @dixitsudhir12: #seafarers #SailorsLife @Fl...      und   \n\n                                          hashtags  \\\n0  [cargoshipcruises, cargoshipjourney, seatravel]   \n1                                             None   \n2                                    [humansatsea]   \n3                                   [careersatsea]   \n4                         [seafarers, SailorsLife]   \n\n                                           media_url place  \n0  [https://pbs.twimg.com/media/EiwJ9DRXcAArU1-.jpg]  None  \n1  [https://pbs.twimg.com/media/EXhko9pXsAAX6jV.jpg]  None  \n2  [https://pbs.twimg.com/media/ETzgEVHUYAATmEd.jpg]  None  \n3  [https://pbs.twimg.com/ext_tw_video_thumb/9078...  None  \n4  [https://pbs.twimg.com/media/Cmg7y3uUcAAOQNE.jpg]  None  ",
      "text/html": "<div>\n<style scoped>\n    .dataframe tbody tr th:only-of-type {\n        vertical-align: middle;\n    }\n\n    .dataframe tbody tr th {\n        vertical-align: top;\n    }\n\n    .dataframe thead th {\n        text-align: right;\n    }\n</style>\n<table border=\"1\" class=\"dataframe\">\n  <thead>\n    <tr style=\"text-align: right;\">\n      <th></th>\n      <th>created_at</th>\n      <th>user_name</th>\n      <th>description</th>\n      <th>user_location</th>\n      <th>text</th>\n      <th>language</th>\n      <th>hashtags</th>\n      <th>media_url</th>\n      <th>place</th>\n    </tr>\n  </thead>\n  <tbody>\n    <tr>\n      <th>0</th>\n      <td>2020-09-25 10:00:23+00:00</td>\n      <td>CargoShipVoyage</td>\n      <td>Purveyors of sea travel since 1993, we are wor...</td>\n      <td>Cowes, UK</td>\n      <td>We're very much open for enquiries and booking...</td>\n      <td>en</td>\n      <td>[cargoshipcruises, cargoshipjourney, seatravel]</td>\n      <td>[https://pbs.twimg.com/media/EiwJ9DRXcAArU1-.jpg]</td>\n      <td>None</td>\n    </tr>\n    <tr>\n      <th>1</th>\n      <td>2020-05-08 21:09:58+00:00</td>\n      <td>CargoShipVoyage</td>\n      <td>Purveyors of sea travel since 1993, we are wor...</td>\n      <td>Cowes, UK</td>\n      <td>https://t.co/EfvKsdkFhp</td>\n      <td>und</td>\n      <td>None</td>\n      <td>[https://pbs.twimg.com/media/EXhko9pXsAAX6jV.jpg]</td>\n      <td>None</td>\n    </tr>\n    <tr>\n      <th>2</th>\n      <td>2020-03-23 19:51:03+00:00</td>\n      <td>CargoShipVoyage</td>\n      <td>Purveyors of sea travel since 1993, we are wor...</td>\n      <td>Cowes, UK</td>\n      <td>RT @Humansatsea: Stay inside your home. we are...</td>\n      <td>en</td>\n      <td>[humansatsea]</td>\n      <td>[https://pbs.twimg.com/media/ETzgEVHUYAATmEd.jpg]</td>\n      <td>None</td>\n    </tr>\n    <tr>\n      <th>3</th>\n      <td>2017-10-15 12:00:37+00:00</td>\n      <td>CargoShipVoyage</td>\n      <td>Purveyors of sea travel since 1993, we are wor...</td>\n      <td>Cowes, UK</td>\n      <td>RT @careersatsea: New day. New adventure. Be a...</td>\n      <td>en</td>\n      <td>[careersatsea]</td>\n      <td>[https://pbs.twimg.com/ext_tw_video_thumb/9078...</td>\n      <td>None</td>\n    </tr>\n    <tr>\n      <th>4</th>\n      <td>2016-07-05 21:05:56+00:00</td>\n      <td>CargoShipVoyage</td>\n      <td>Purveyors of sea travel since 1993, we are wor...</td>\n      <td>Cowes, UK</td>\n      <td>RT @dixitsudhir12: #seafarers #SailorsLife @Fl...</td>\n      <td>und</td>\n      <td>[seafarers, SailorsLife]</td>\n      <td>[https://pbs.twimg.com/media/Cmg7y3uUcAAOQNE.jpg]</td>\n      <td>None</td>\n    </tr>\n  </tbody>\n</table>\n</div>"
     },
     "execution_count": 93,
     "metadata": {},
     "output_type": "execute_result"
    }
   ],
   "source": [
    "# Use getUserTweets function (screen_name = 'CargoShipVoyage', count = 1000)\n",
    "user14 = getUserTweets('CargoShipVoyage', 1000)\n",
    "\n",
    "# show total number of tweets\n",
    "print(\"Total Tweets fetched:\", len(user14))\n",
    "\n",
    "# show the dataframe\n",
    "user14.head()"
   ],
   "metadata": {
    "collapsed": false,
    "pycharm": {
     "name": "#%%\n"
    }
   }
  },
  {
   "cell_type": "code",
   "execution_count": 94,
   "outputs": [],
   "source": [
    "# export dataframe to csv file\n",
    "user14.to_csv('C:/Users/tivon/projects/twitter_project/data/user_tweets_cargoshipvoyage.csv', index = False)"
   ],
   "metadata": {
    "collapsed": false,
    "pycharm": {
     "name": "#%%\n"
    }
   }
  },
  {
   "cell_type": "markdown",
   "source": [
    "### user15\n",
    "screen_name = @maritimephoto"
   ],
   "metadata": {
    "collapsed": false,
    "pycharm": {
     "name": "#%% md\n"
    }
   }
  },
  {
   "cell_type": "code",
   "execution_count": 95,
   "outputs": [
    {
     "name": "stdout",
     "output_type": "stream",
     "text": [
      "Total Tweets fetched: 393\n"
     ]
    },
    {
     "data": {
      "text/plain": "                 created_at      user_name  \\\n0 2021-04-22 21:19:36+00:00  maritimephoto   \n1 2020-01-25 11:12:27+00:00  maritimephoto   \n2 2019-09-12 18:56:32+00:00  maritimephoto   \n3 2019-05-17 08:58:37+00:00  maritimephoto   \n4 2019-05-16 21:55:19+00:00  maritimephoto   \n\n                                         description           user_location  \\\n0  http://t.co/0dSqgMG6EJ is a small company invo...  near Flushing, Holland   \n1  http://t.co/0dSqgMG6EJ is a small company invo...  near Flushing, Holland   \n2  http://t.co/0dSqgMG6EJ is a small company invo...  near Flushing, Holland   \n3  http://t.co/0dSqgMG6EJ is a small company invo...  near Flushing, Holland   \n4  http://t.co/0dSqgMG6EJ is a small company invo...  near Flushing, Holland   \n\n                                                text language hashtags  \\\n0  Shoalbuster 3514 BRUTUS seen on DP trials at t...       en     None   \n1  Today exactly 33 years ago: tanker OLYMPIC DRE...       en     None   \n2  MULTRATUG 4 seen 12/09/2019 arriving at Flushi...       en     None   \n3  Nice to see our image of BOKALIFT 1 as coverph...       en     None   \n4  French cruiseliner LE BOREAL seen passing Flus...       en     None   \n\n                                           media_url place  \n0  [https://pbs.twimg.com/media/Ezm5sn0WUAEM36b.jpg]  None  \n1  [https://pbs.twimg.com/media/EPH2iahX0AAB5kE.jpg]  None  \n2  [https://pbs.twimg.com/media/EESSIO1WkAASUG9.jpg]  None  \n3  [https://pbs.twimg.com/media/D6wdrUYX4AA4BoK.jpg]  None  \n4  [https://pbs.twimg.com/media/D6uF2-_W0AAGQLt.jpg]  None  ",
      "text/html": "<div>\n<style scoped>\n    .dataframe tbody tr th:only-of-type {\n        vertical-align: middle;\n    }\n\n    .dataframe tbody tr th {\n        vertical-align: top;\n    }\n\n    .dataframe thead th {\n        text-align: right;\n    }\n</style>\n<table border=\"1\" class=\"dataframe\">\n  <thead>\n    <tr style=\"text-align: right;\">\n      <th></th>\n      <th>created_at</th>\n      <th>user_name</th>\n      <th>description</th>\n      <th>user_location</th>\n      <th>text</th>\n      <th>language</th>\n      <th>hashtags</th>\n      <th>media_url</th>\n      <th>place</th>\n    </tr>\n  </thead>\n  <tbody>\n    <tr>\n      <th>0</th>\n      <td>2021-04-22 21:19:36+00:00</td>\n      <td>maritimephoto</td>\n      <td>http://t.co/0dSqgMG6EJ is a small company invo...</td>\n      <td>near Flushing, Holland</td>\n      <td>Shoalbuster 3514 BRUTUS seen on DP trials at t...</td>\n      <td>en</td>\n      <td>None</td>\n      <td>[https://pbs.twimg.com/media/Ezm5sn0WUAEM36b.jpg]</td>\n      <td>None</td>\n    </tr>\n    <tr>\n      <th>1</th>\n      <td>2020-01-25 11:12:27+00:00</td>\n      <td>maritimephoto</td>\n      <td>http://t.co/0dSqgMG6EJ is a small company invo...</td>\n      <td>near Flushing, Holland</td>\n      <td>Today exactly 33 years ago: tanker OLYMPIC DRE...</td>\n      <td>en</td>\n      <td>None</td>\n      <td>[https://pbs.twimg.com/media/EPH2iahX0AAB5kE.jpg]</td>\n      <td>None</td>\n    </tr>\n    <tr>\n      <th>2</th>\n      <td>2019-09-12 18:56:32+00:00</td>\n      <td>maritimephoto</td>\n      <td>http://t.co/0dSqgMG6EJ is a small company invo...</td>\n      <td>near Flushing, Holland</td>\n      <td>MULTRATUG 4 seen 12/09/2019 arriving at Flushi...</td>\n      <td>en</td>\n      <td>None</td>\n      <td>[https://pbs.twimg.com/media/EESSIO1WkAASUG9.jpg]</td>\n      <td>None</td>\n    </tr>\n    <tr>\n      <th>3</th>\n      <td>2019-05-17 08:58:37+00:00</td>\n      <td>maritimephoto</td>\n      <td>http://t.co/0dSqgMG6EJ is a small company invo...</td>\n      <td>near Flushing, Holland</td>\n      <td>Nice to see our image of BOKALIFT 1 as coverph...</td>\n      <td>en</td>\n      <td>None</td>\n      <td>[https://pbs.twimg.com/media/D6wdrUYX4AA4BoK.jpg]</td>\n      <td>None</td>\n    </tr>\n    <tr>\n      <th>4</th>\n      <td>2019-05-16 21:55:19+00:00</td>\n      <td>maritimephoto</td>\n      <td>http://t.co/0dSqgMG6EJ is a small company invo...</td>\n      <td>near Flushing, Holland</td>\n      <td>French cruiseliner LE BOREAL seen passing Flus...</td>\n      <td>en</td>\n      <td>None</td>\n      <td>[https://pbs.twimg.com/media/D6uF2-_W0AAGQLt.jpg]</td>\n      <td>None</td>\n    </tr>\n  </tbody>\n</table>\n</div>"
     },
     "execution_count": 95,
     "metadata": {},
     "output_type": "execute_result"
    }
   ],
   "source": [
    "# Use getUserTweets function (screen_name = 'maritimephoto', count = 1000)\n",
    "user15 = getUserTweets('maritimephoto', 1000)\n",
    "\n",
    "# show total number of tweets\n",
    "print(\"Total Tweets fetched:\", len(user15))\n",
    "\n",
    "# show the dataframe\n",
    "user15.head()"
   ],
   "metadata": {
    "collapsed": false,
    "pycharm": {
     "name": "#%%\n"
    }
   }
  },
  {
   "cell_type": "code",
   "execution_count": 96,
   "outputs": [],
   "source": [
    "# export dataframe to csv file\n",
    "user15.to_csv('C:/Users/tivon/projects/twitter_project/data/user_tweets_maritimephoto.csv', index = False)"
   ],
   "metadata": {
    "collapsed": false,
    "pycharm": {
     "name": "#%%\n"
    }
   }
  },
  {
   "cell_type": "markdown",
   "source": [
    "## Define function to fetch user tweets with api.search_tweets."
   ],
   "metadata": {
    "collapsed": false,
    "pycharm": {
     "name": "#%% md\n"
    }
   }
  },
  {
   "cell_type": "code",
   "execution_count": 83,
   "outputs": [],
   "source": [
    "def get_tweets(userid, count_number):\n",
    "    tweets = tweepy.Cursor(api.search_tweets, q = userid +'-filter:retweets').items(1000)\n",
    "\n",
    "    # Create 2 empty lists to store images url and tweets\n",
    "\n",
    "    images_list = []\n",
    "    tweets_list = []\n",
    "\n",
    "    # Find and display images url from the dictionary\n",
    "    for tweet in tweets:\n",
    "        if 'media' in tweet.entities:\n",
    "            tweets_list.append(tweet)\n",
    "\n",
    "            for image in tweet.entities['media']:\n",
    "                images = image['media_url']\n",
    "                images_list.append(images) # Store images url\n",
    "\n",
    "    tweets_df = pd.DataFrame()\n",
    "\n",
    "    for tweet in tweets_list:\n",
    "        tweets_df = pd.concat([tweets_df, pd.DataFrame({'user_name': tweet.user.screen_name,\n",
    "                                                        'created_at': tweet.created_at,\n",
    "                                                        'user_location': tweet.user.location,\n",
    "                                                        'place': tweet.place,\n",
    "                                                        'description': tweet.user.description,\n",
    "                                                        'media_url': [images_list],\n",
    "                                                        'language': tweet.lang,\n",
    "                                                        'text': tweet.text,\n",
    "                                                        'hashtags': [tweet.entities['hashtags']],\n",
    "                                                        })])\n",
    "\n",
    "        tweets_df  = tweets_df.reset_index(drop = True)\n",
    "\n",
    "    return tweets_df"
   ],
   "metadata": {
    "collapsed": false,
    "pycharm": {
     "name": "#%%\n"
    }
   }
  },
  {
   "cell_type": "markdown",
   "source": [
    "screen_name = @gCaptain"
   ],
   "metadata": {
    "collapsed": false,
    "pycharm": {
     "name": "#%% md\n"
    }
   }
  },
  {
   "cell_type": "code",
   "execution_count": 84,
   "outputs": [
    {
     "name": "stdout",
     "output_type": "stream",
     "text": [
      "321\n"
     ]
    },
    {
     "data": {
      "text/plain": "         user_name                created_at            user_location place  \\\n0        EazyCadet 2022-03-28 22:54:03+00:00  England, United Kingdom  None   \n1  MaritimeSocialM 2022-03-28 22:31:38+00:00        Egham, South East  None   \n2  MaritimeSocialM 2022-03-28 22:31:35+00:00        Egham, South East  None   \n3  MaritimeSocialM 2022-03-28 22:31:33+00:00        Egham, South East  None   \n4        EazyCadet 2022-03-28 22:04:06+00:00  England, United Kingdom  None   \n\n                                         description  \\\n0  'The Eazy Cadet' is an online resource centre ...   \n1  Sailing, cruising and anything related to the ...   \n2  Sailing, cruising and anything related to the ...   \n3  Sailing, cruising and anything related to the ...   \n4  'The Eazy Cadet' is an online resource centre ...   \n\n                                           media_url language  \\\n0  [http://pbs.twimg.com/media/FO-L3p7VUAAuJ1c.jp...       en   \n1  [http://pbs.twimg.com/media/FO-L3p7VUAAuJ1c.jp...       en   \n2  [http://pbs.twimg.com/media/FO-L3p7VUAAuJ1c.jp...       en   \n3  [http://pbs.twimg.com/media/FO-L3p7VUAAuJ1c.jp...       en   \n4  [http://pbs.twimg.com/media/FO-L3p7VUAAuJ1c.jp...       en   \n\n                                                text hashtags  \n0  Nuclear powered ships? https://t.co/0LsjEm2L0X...       []  \n1  Turkey Defuses Another Stray Naval Mine in Bla...       []  \n2  Savannah Completes Decades-Long Harbor Deepeni...       []  \n3  Maersk to Explore Large-Scale Green Fuel Produ...       []  \n4  Misc. Cartoons https://t.co/GoO5TKXMW0 https:/...       []  ",
      "text/html": "<div>\n<style scoped>\n    .dataframe tbody tr th:only-of-type {\n        vertical-align: middle;\n    }\n\n    .dataframe tbody tr th {\n        vertical-align: top;\n    }\n\n    .dataframe thead th {\n        text-align: right;\n    }\n</style>\n<table border=\"1\" class=\"dataframe\">\n  <thead>\n    <tr style=\"text-align: right;\">\n      <th></th>\n      <th>user_name</th>\n      <th>created_at</th>\n      <th>user_location</th>\n      <th>place</th>\n      <th>description</th>\n      <th>media_url</th>\n      <th>language</th>\n      <th>text</th>\n      <th>hashtags</th>\n    </tr>\n  </thead>\n  <tbody>\n    <tr>\n      <th>0</th>\n      <td>EazyCadet</td>\n      <td>2022-03-28 22:54:03+00:00</td>\n      <td>England, United Kingdom</td>\n      <td>None</td>\n      <td>'The Eazy Cadet' is an online resource centre ...</td>\n      <td>[http://pbs.twimg.com/media/FO-L3p7VUAAuJ1c.jp...</td>\n      <td>en</td>\n      <td>Nuclear powered ships? https://t.co/0LsjEm2L0X...</td>\n      <td>[]</td>\n    </tr>\n    <tr>\n      <th>1</th>\n      <td>MaritimeSocialM</td>\n      <td>2022-03-28 22:31:38+00:00</td>\n      <td>Egham, South East</td>\n      <td>None</td>\n      <td>Sailing, cruising and anything related to the ...</td>\n      <td>[http://pbs.twimg.com/media/FO-L3p7VUAAuJ1c.jp...</td>\n      <td>en</td>\n      <td>Turkey Defuses Another Stray Naval Mine in Bla...</td>\n      <td>[]</td>\n    </tr>\n    <tr>\n      <th>2</th>\n      <td>MaritimeSocialM</td>\n      <td>2022-03-28 22:31:35+00:00</td>\n      <td>Egham, South East</td>\n      <td>None</td>\n      <td>Sailing, cruising and anything related to the ...</td>\n      <td>[http://pbs.twimg.com/media/FO-L3p7VUAAuJ1c.jp...</td>\n      <td>en</td>\n      <td>Savannah Completes Decades-Long Harbor Deepeni...</td>\n      <td>[]</td>\n    </tr>\n    <tr>\n      <th>3</th>\n      <td>MaritimeSocialM</td>\n      <td>2022-03-28 22:31:33+00:00</td>\n      <td>Egham, South East</td>\n      <td>None</td>\n      <td>Sailing, cruising and anything related to the ...</td>\n      <td>[http://pbs.twimg.com/media/FO-L3p7VUAAuJ1c.jp...</td>\n      <td>en</td>\n      <td>Maersk to Explore Large-Scale Green Fuel Produ...</td>\n      <td>[]</td>\n    </tr>\n    <tr>\n      <th>4</th>\n      <td>EazyCadet</td>\n      <td>2022-03-28 22:04:06+00:00</td>\n      <td>England, United Kingdom</td>\n      <td>None</td>\n      <td>'The Eazy Cadet' is an online resource centre ...</td>\n      <td>[http://pbs.twimg.com/media/FO-L3p7VUAAuJ1c.jp...</td>\n      <td>en</td>\n      <td>Misc. Cartoons https://t.co/GoO5TKXMW0 https:/...</td>\n      <td>[]</td>\n    </tr>\n  </tbody>\n</table>\n</div>"
     },
     "execution_count": 84,
     "metadata": {},
     "output_type": "execute_result"
    }
   ],
   "source": [
    "gCaptain = get_tweets('gCaptain', 1000)\n",
    "print(len(gCaptain))\n",
    "gCaptain.head()"
   ],
   "metadata": {
    "collapsed": false,
    "pycharm": {
     "name": "#%%\n"
    }
   }
  },
  {
   "cell_type": "code",
   "execution_count": 85,
   "outputs": [],
   "source": [
    "# Save it into a csv file\n",
    "gCaptain.to_csv('C:/Users/tivon/projects/twitter_project/data/user_tweets_gcaptain.csv', index = False)"
   ],
   "metadata": {
    "collapsed": false,
    "pycharm": {
     "name": "#%%\n"
    }
   }
  },
  {
   "cell_type": "markdown",
   "source": [
    "screen_name = @georgeemmett8"
   ],
   "metadata": {
    "collapsed": false,
    "pycharm": {
     "name": "#%% md\n"
    }
   }
  },
  {
   "cell_type": "code",
   "execution_count": 89,
   "outputs": [
    {
     "name": "stdout",
     "output_type": "stream",
     "text": [
      "84\n"
     ]
    },
    {
     "data": {
      "text/plain": "       user_name                created_at           user_location place  \\\n0  georgeemmett8 2022-03-28 17:54:20+00:00     Portsmouth, England  None   \n1  georgeemmett8 2022-03-28 17:51:54+00:00     Portsmouth, England  None   \n2  georgeemmett8 2022-03-28 17:50:42+00:00     Portsmouth, England  None   \n3  georgeemmett8 2022-03-28 17:43:23+00:00     Portsmouth, England  None   \n4   Streetgang42 2022-03-28 13:27:08+00:00  ÜT: 53.415392,-3.02828  None   \n\n                                         description  \\\n0  I have autism and like taking pictures of ship...   \n1  I have autism and like taking pictures of ship...   \n2  I have autism and like taking pictures of ship...   \n3  I have autism and like taking pictures of ship...   \n4  Full time dad to 7 with a penchant for gadgets...   \n\n                                           media_url language  \\\n0  [http://pbs.twimg.com/media/FO9HJ0qXIAAtp7Y.jp...       en   \n1  [http://pbs.twimg.com/media/FO9HJ0qXIAAtp7Y.jp...       en   \n2  [http://pbs.twimg.com/media/FO9HJ0qXIAAtp7Y.jp...       en   \n3  [http://pbs.twimg.com/media/FO9HJ0qXIAAtp7Y.jp...       en   \n4  [http://pbs.twimg.com/media/FO9HJ0qXIAAtp7Y.jp...       en   \n\n                                                text hashtags  \n0  A fishing boat arriving into Portsmouth on the...       []  \n1  @HovertravelLtd Hovercraft passing @wightlinkf...       []  \n2  @wightlinkferry St Faith and St Clare in the b...       []  \n3  @BrittanyFerries Bretagne arriving into @Ports...       []  \n4  @georgeemmett8 she has come a long way George!...       []  ",
      "text/html": "<div>\n<style scoped>\n    .dataframe tbody tr th:only-of-type {\n        vertical-align: middle;\n    }\n\n    .dataframe tbody tr th {\n        vertical-align: top;\n    }\n\n    .dataframe thead th {\n        text-align: right;\n    }\n</style>\n<table border=\"1\" class=\"dataframe\">\n  <thead>\n    <tr style=\"text-align: right;\">\n      <th></th>\n      <th>user_name</th>\n      <th>created_at</th>\n      <th>user_location</th>\n      <th>place</th>\n      <th>description</th>\n      <th>media_url</th>\n      <th>language</th>\n      <th>text</th>\n      <th>hashtags</th>\n    </tr>\n  </thead>\n  <tbody>\n    <tr>\n      <th>0</th>\n      <td>georgeemmett8</td>\n      <td>2022-03-28 17:54:20+00:00</td>\n      <td>Portsmouth, England</td>\n      <td>None</td>\n      <td>I have autism and like taking pictures of ship...</td>\n      <td>[http://pbs.twimg.com/media/FO9HJ0qXIAAtp7Y.jp...</td>\n      <td>en</td>\n      <td>A fishing boat arriving into Portsmouth on the...</td>\n      <td>[]</td>\n    </tr>\n    <tr>\n      <th>1</th>\n      <td>georgeemmett8</td>\n      <td>2022-03-28 17:51:54+00:00</td>\n      <td>Portsmouth, England</td>\n      <td>None</td>\n      <td>I have autism and like taking pictures of ship...</td>\n      <td>[http://pbs.twimg.com/media/FO9HJ0qXIAAtp7Y.jp...</td>\n      <td>en</td>\n      <td>@HovertravelLtd Hovercraft passing @wightlinkf...</td>\n      <td>[]</td>\n    </tr>\n    <tr>\n      <th>2</th>\n      <td>georgeemmett8</td>\n      <td>2022-03-28 17:50:42+00:00</td>\n      <td>Portsmouth, England</td>\n      <td>None</td>\n      <td>I have autism and like taking pictures of ship...</td>\n      <td>[http://pbs.twimg.com/media/FO9HJ0qXIAAtp7Y.jp...</td>\n      <td>en</td>\n      <td>@wightlinkferry St Faith and St Clare in the b...</td>\n      <td>[]</td>\n    </tr>\n    <tr>\n      <th>3</th>\n      <td>georgeemmett8</td>\n      <td>2022-03-28 17:43:23+00:00</td>\n      <td>Portsmouth, England</td>\n      <td>None</td>\n      <td>I have autism and like taking pictures of ship...</td>\n      <td>[http://pbs.twimg.com/media/FO9HJ0qXIAAtp7Y.jp...</td>\n      <td>en</td>\n      <td>@BrittanyFerries Bretagne arriving into @Ports...</td>\n      <td>[]</td>\n    </tr>\n    <tr>\n      <th>4</th>\n      <td>Streetgang42</td>\n      <td>2022-03-28 13:27:08+00:00</td>\n      <td>ÜT: 53.415392,-3.02828</td>\n      <td>None</td>\n      <td>Full time dad to 7 with a penchant for gadgets...</td>\n      <td>[http://pbs.twimg.com/media/FO9HJ0qXIAAtp7Y.jp...</td>\n      <td>en</td>\n      <td>@georgeemmett8 she has come a long way George!...</td>\n      <td>[]</td>\n    </tr>\n  </tbody>\n</table>\n</div>"
     },
     "execution_count": 89,
     "metadata": {},
     "output_type": "execute_result"
    }
   ],
   "source": [
    "georgeemmett8 = get_tweets('georgeemmett8', 1000)\n",
    "print(len(georgeemmett8))\n",
    "georgeemmett8.head()"
   ],
   "metadata": {
    "collapsed": false,
    "pycharm": {
     "name": "#%%\n"
    }
   }
  },
  {
   "cell_type": "code",
   "execution_count": 91,
   "outputs": [],
   "source": [
    "# Save it into a csv file\n",
    "georgeemmett8.to_csv('C:/Users/tivon/projects/twitter_project/data/user_tweets_georgeemmett8.csv', index = False)"
   ],
   "metadata": {
    "collapsed": false,
    "pycharm": {
     "name": "#%%\n"
    }
   }
  },
  {
   "cell_type": "markdown",
   "source": [
    "screen_name = @Krispen_Ships"
   ],
   "metadata": {
    "collapsed": false,
    "pycharm": {
     "name": "#%% md\n"
    }
   }
  },
  {
   "cell_type": "code",
   "execution_count": 97,
   "outputs": [
    {
     "name": "stdout",
     "output_type": "stream",
     "text": [
      "4\n"
     ]
    },
    {
     "data": {
      "text/plain": "       user_name                created_at   user_location place  \\\n0   jason_photos 2022-03-28 18:10:19+00:00            kent  None   \n1   jason_photos 2022-03-28 15:30:13+00:00            kent  None   \n2  Krispen_Ships 2022-03-23 18:31:38+00:00  Greenhithe, UK  None   \n3   jason_photos 2022-03-21 11:11:44+00:00            kent  None   \n\n                                         description  \\\n0                                                      \n1                                                      \n2  Self confessed ship enthusiast, proud Cornishm...   \n3                                                      \n\n                                           media_url language  \\\n0  [http://pbs.twimg.com/media/FO9KXKOWYAEqu-_.jp...       en   \n1  [http://pbs.twimg.com/media/FO9KXKOWYAEqu-_.jp...       en   \n2  [http://pbs.twimg.com/media/FO9KXKOWYAEqu-_.jp...       en   \n3  [http://pbs.twimg.com/media/FO9KXKOWYAEqu-_.jp...       en   \n\n                                                text hashtags  \n0  @thamesclippers @visit_gravesend @LondonPortAu...       []  \n1  @thamesclippers @LondonPortAuth @Krispen_Ships...       []  \n2  A sign that the days are drawing out, MARIA GR...       []  \n3  @Krispen_Ships i just nr miss getting her http...       []  ",
      "text/html": "<div>\n<style scoped>\n    .dataframe tbody tr th:only-of-type {\n        vertical-align: middle;\n    }\n\n    .dataframe tbody tr th {\n        vertical-align: top;\n    }\n\n    .dataframe thead th {\n        text-align: right;\n    }\n</style>\n<table border=\"1\" class=\"dataframe\">\n  <thead>\n    <tr style=\"text-align: right;\">\n      <th></th>\n      <th>user_name</th>\n      <th>created_at</th>\n      <th>user_location</th>\n      <th>place</th>\n      <th>description</th>\n      <th>media_url</th>\n      <th>language</th>\n      <th>text</th>\n      <th>hashtags</th>\n    </tr>\n  </thead>\n  <tbody>\n    <tr>\n      <th>0</th>\n      <td>jason_photos</td>\n      <td>2022-03-28 18:10:19+00:00</td>\n      <td>kent</td>\n      <td>None</td>\n      <td></td>\n      <td>[http://pbs.twimg.com/media/FO9KXKOWYAEqu-_.jp...</td>\n      <td>en</td>\n      <td>@thamesclippers @visit_gravesend @LondonPortAu...</td>\n      <td>[]</td>\n    </tr>\n    <tr>\n      <th>1</th>\n      <td>jason_photos</td>\n      <td>2022-03-28 15:30:13+00:00</td>\n      <td>kent</td>\n      <td>None</td>\n      <td></td>\n      <td>[http://pbs.twimg.com/media/FO9KXKOWYAEqu-_.jp...</td>\n      <td>en</td>\n      <td>@thamesclippers @LondonPortAuth @Krispen_Ships...</td>\n      <td>[]</td>\n    </tr>\n    <tr>\n      <th>2</th>\n      <td>Krispen_Ships</td>\n      <td>2022-03-23 18:31:38+00:00</td>\n      <td>Greenhithe, UK</td>\n      <td>None</td>\n      <td>Self confessed ship enthusiast, proud Cornishm...</td>\n      <td>[http://pbs.twimg.com/media/FO9KXKOWYAEqu-_.jp...</td>\n      <td>en</td>\n      <td>A sign that the days are drawing out, MARIA GR...</td>\n      <td>[]</td>\n    </tr>\n    <tr>\n      <th>3</th>\n      <td>jason_photos</td>\n      <td>2022-03-21 11:11:44+00:00</td>\n      <td>kent</td>\n      <td>None</td>\n      <td></td>\n      <td>[http://pbs.twimg.com/media/FO9KXKOWYAEqu-_.jp...</td>\n      <td>en</td>\n      <td>@Krispen_Ships i just nr miss getting her http...</td>\n      <td>[]</td>\n    </tr>\n  </tbody>\n</table>\n</div>"
     },
     "execution_count": 97,
     "metadata": {},
     "output_type": "execute_result"
    }
   ],
   "source": [
    "Krispen_Ships = get_tweets('Krispen_Ships', 1000)\n",
    "print(len(Krispen_Ships))\n",
    "Krispen_Ships.head()"
   ],
   "metadata": {
    "collapsed": false,
    "pycharm": {
     "name": "#%%\n"
    }
   }
  },
  {
   "cell_type": "code",
   "execution_count": 98,
   "outputs": [],
   "source": [
    "# Save it into a csv file\n",
    "Krispen_Ships.to_csv('C:/Users/tivon/projects/twitter_project/data/user_tweets_krispen_ships.csv', index = False)"
   ],
   "metadata": {
    "collapsed": false,
    "pycharm": {
     "name": "#%%\n"
    }
   }
  },
  {
   "cell_type": "markdown",
   "source": [
    "## Define function to fetch query tweets with api.search_tweets."
   ],
   "metadata": {
    "collapsed": false,
    "pycharm": {
     "name": "#%% md\n"
    }
   }
  },
  {
   "cell_type": "code",
   "execution_count": null,
   "outputs": [],
   "source": [
    "def getQueryTweets(search_query, count):\n",
    "\n",
    "    # get tweets from the API\n",
    "    tweets = tweepy.Cursor(api.search_tweets, q=search_query).items(count)\n",
    "\n",
    "    # store the API responses in a list\n",
    "    tweets_copy = []\n",
    "    for tweet in tweets:\n",
    "        if 'media' in tweet.entities:\n",
    "            tweets_copy.append(tweet)\n",
    "\n",
    "    # initialize the dataframe\n",
    "    tweets_df = pd.DataFrame()\n",
    "    # populate the dataframe\n",
    "    for tweet in tweets_copy:\n",
    "        hashtags = []\n",
    "        media_url = []\n",
    "        try:\n",
    "            for hashtag in tweet.entities[\"hashtags\"]:\n",
    "                hashtags.append(hashtag[\"text\"])\n",
    "            for media in tweet.entities['media']:\n",
    "                media_url.append(media[\"media_url_https\"])\n",
    "        except:\n",
    "            pass\n",
    "        tweets_df = pd.concat([tweets_df, pd.DataFrame({'created_at': tweet.created_at,\n",
    "                                                        'user_name': tweet.user.screen_name,\n",
    "                                                        'description': tweet.user.description,\n",
    "                                                        'user_location': tweet.user.location,\n",
    "                                                        'text': tweet.text,\n",
    "                                                        'language': tweet.lang,\n",
    "                                                        'hashtags': [hashtags if hashtags else None],\n",
    "                                                        'media_url':[media_url if media_url else None],\n",
    "                                                        'place': tweet.place,\n",
    "                                                        })])\n",
    "        tweets_df = tweets_df.reset_index(drop=True)\n",
    "\n",
    "    return tweets_df"
   ],
   "metadata": {
    "collapsed": false,
    "pycharm": {
     "name": "#%%\n"
    }
   }
  },
  {
   "cell_type": "markdown",
   "source": [
    "## Query Tweets\n",
    "Use getQueryTweets() function to fetch query tweets"
   ],
   "metadata": {
    "collapsed": false,
    "pycharm": {
     "name": "#%% md\n"
    }
   }
  },
  {
   "cell_type": "markdown",
   "source": [
    "### query1\n",
    "search_query = warship"
   ],
   "metadata": {
    "collapsed": false,
    "pycharm": {
     "name": "#%% md\n"
    }
   }
  },
  {
   "cell_type": "code",
   "execution_count": 35,
   "outputs": [
    {
     "name": "stdout",
     "output_type": "stream",
     "text": [
      "Total Tweets fetched: 75\n"
     ]
    },
    {
     "data": {
      "text/plain": "                 created_at        user_name  \\\n0 2022-03-28 21:40:58+00:00  warship_hengaba   \n1 2022-03-28 20:41:26+00:00       dobryranok   \n2 2022-03-28 20:40:53+00:00  warship_hengaba   \n3 2022-03-28 20:31:15+00:00   WatchdogforNFT   \n4 2022-03-28 20:24:19+00:00     idle_warship   \n\n                                         description user_location  \\\n0  その名の通り軍艦を偏見とガバガバ知識で語るbotです。30分に1回はつぶやきます。  艦これ...           どこか   \n1                        internally displaced person       Ukraine   \n2  その名の通り軍艦を偏見とガバガバ知識で語るbotです。30分に1回はつぶやきます。  艦これ...           どこか   \n3  🤯I do things from time to time and hopefully y...                 \n4  \"Eye flossed a wilt olive,\" eek rides oft lien...  Portland, OR   \n\n                                                text language  \\\n0  千代田形/日本/砲艦\\n幕府が総力を上げて作った初の国産西洋軍艦\\n船体、武装、機関全てが国...       ja   \n1  @JLarky @JimmySecUK Follow your warship and ta...       en   \n2  ダントン級戦艦/フランス/戦艦\\n以前のように少しずつ戦艦を造る方法だと英独に対抗できないの...       ja   \n3  Russian Warship, Go Fuck Yourself!\\n#russianwa...       en   \n4              G. Erle Cocke https://t.co/AAwh1WTwtV       de   \n\n                                            hashtags  \\\n0                                               None   \n1                                               None   \n2                                               None   \n3  [russianwarshipgfy, russianwarshipgofyourself,...   \n4                                               None   \n\n                                           media_url place  \n0  [https://pbs.twimg.com/media/D1JhiazUYAA5UTH.jpg]  None  \n1  [https://pbs.twimg.com/media/FO9tgzLWUAMc9cw.jpg]  None  \n2  [https://pbs.twimg.com/media/DvRVK8NUwAEQq1K.jpg]  None  \n3  [https://pbs.twimg.com/media/FO9rL0_XEAEGatN.jpg]  None  \n4  [https://pbs.twimg.com/media/FO9pmJhVsAAMUPi.jpg]  None  ",
      "text/html": "<div>\n<style scoped>\n    .dataframe tbody tr th:only-of-type {\n        vertical-align: middle;\n    }\n\n    .dataframe tbody tr th {\n        vertical-align: top;\n    }\n\n    .dataframe thead th {\n        text-align: right;\n    }\n</style>\n<table border=\"1\" class=\"dataframe\">\n  <thead>\n    <tr style=\"text-align: right;\">\n      <th></th>\n      <th>created_at</th>\n      <th>user_name</th>\n      <th>description</th>\n      <th>user_location</th>\n      <th>text</th>\n      <th>language</th>\n      <th>hashtags</th>\n      <th>media_url</th>\n      <th>place</th>\n    </tr>\n  </thead>\n  <tbody>\n    <tr>\n      <th>0</th>\n      <td>2022-03-28 21:40:58+00:00</td>\n      <td>warship_hengaba</td>\n      <td>その名の通り軍艦を偏見とガバガバ知識で語るbotです。30分に1回はつぶやきます。  艦これ...</td>\n      <td>どこか</td>\n      <td>千代田形/日本/砲艦\\n幕府が総力を上げて作った初の国産西洋軍艦\\n船体、武装、機関全てが国...</td>\n      <td>ja</td>\n      <td>None</td>\n      <td>[https://pbs.twimg.com/media/D1JhiazUYAA5UTH.jpg]</td>\n      <td>None</td>\n    </tr>\n    <tr>\n      <th>1</th>\n      <td>2022-03-28 20:41:26+00:00</td>\n      <td>dobryranok</td>\n      <td>internally displaced person</td>\n      <td>Ukraine</td>\n      <td>@JLarky @JimmySecUK Follow your warship and ta...</td>\n      <td>en</td>\n      <td>None</td>\n      <td>[https://pbs.twimg.com/media/FO9tgzLWUAMc9cw.jpg]</td>\n      <td>None</td>\n    </tr>\n    <tr>\n      <th>2</th>\n      <td>2022-03-28 20:40:53+00:00</td>\n      <td>warship_hengaba</td>\n      <td>その名の通り軍艦を偏見とガバガバ知識で語るbotです。30分に1回はつぶやきます。  艦これ...</td>\n      <td>どこか</td>\n      <td>ダントン級戦艦/フランス/戦艦\\n以前のように少しずつ戦艦を造る方法だと英独に対抗できないの...</td>\n      <td>ja</td>\n      <td>None</td>\n      <td>[https://pbs.twimg.com/media/DvRVK8NUwAEQq1K.jpg]</td>\n      <td>None</td>\n    </tr>\n    <tr>\n      <th>3</th>\n      <td>2022-03-28 20:31:15+00:00</td>\n      <td>WatchdogforNFT</td>\n      <td>🤯I do things from time to time and hopefully y...</td>\n      <td></td>\n      <td>Russian Warship, Go Fuck Yourself!\\n#russianwa...</td>\n      <td>en</td>\n      <td>[russianwarshipgfy, russianwarshipgofyourself,...</td>\n      <td>[https://pbs.twimg.com/media/FO9rL0_XEAEGatN.jpg]</td>\n      <td>None</td>\n    </tr>\n    <tr>\n      <th>4</th>\n      <td>2022-03-28 20:24:19+00:00</td>\n      <td>idle_warship</td>\n      <td>\"Eye flossed a wilt olive,\" eek rides oft lien...</td>\n      <td>Portland, OR</td>\n      <td>G. Erle Cocke https://t.co/AAwh1WTwtV</td>\n      <td>de</td>\n      <td>None</td>\n      <td>[https://pbs.twimg.com/media/FO9pmJhVsAAMUPi.jpg]</td>\n      <td>None</td>\n    </tr>\n  </tbody>\n</table>\n</div>"
     },
     "execution_count": 35,
     "metadata": {},
     "output_type": "execute_result"
    }
   ],
   "source": [
    "# Use getQueryTweets function (search_query = 'warship', count = 500)\n",
    "query1 = getQueryTweets('warship -filter:retweets', 500) # -filter:retweets excludes RT from query\n",
    "\n",
    "# show total number of tweets fetched\n",
    "print(\"Total Tweets fetched:\", len(query1))\n",
    "\n",
    "# show the dataframe\n",
    "query1.head()"
   ],
   "metadata": {
    "collapsed": false,
    "pycharm": {
     "name": "#%%\n"
    }
   }
  },
  {
   "cell_type": "code",
   "execution_count": 80,
   "outputs": [],
   "source": [
    "# export dataframe to csv file\n",
    "query1.to_csv('C:/Users/tivon/projects/twitter_project/data/query_tweets_warship.csv', index = False)"
   ],
   "metadata": {
    "collapsed": false,
    "pycharm": {
     "name": "#%%\n"
    }
   }
  },
  {
   "cell_type": "markdown",
   "source": [
    "### query2\n",
    "search_query = containership"
   ],
   "metadata": {
    "collapsed": false,
    "pycharm": {
     "name": "#%% md\n"
    }
   }
  },
  {
   "cell_type": "code",
   "execution_count": 37,
   "outputs": [
    {
     "name": "stdout",
     "output_type": "stream",
     "text": [
      "Total Tweets fetched: 9\n"
     ]
    },
    {
     "data": {
      "text/plain": "                 created_at       user_name  \\\n0 2022-03-26 20:58:32+00:00     Miguel_Egea   \n1 2022-03-25 23:43:35+00:00   JoshSearlesWx   \n2 2022-03-25 09:16:06+00:00  albertpallares   \n3 2022-03-23 17:34:43+00:00   johnmorgan726   \n4 2022-03-23 11:55:06+00:00       EazyCadet   \n\n                                         description            user_location  \\\n0  Segunda estrella a la derecha y todo recto has...                Cartagena   \n1  Meteorologist woking in global shipping operat...            New York, USA   \n2  Professional especialitzat en el Transport Mar...        Travelling a lot    \n3  I enjoy HAM radio, fishing, and maritime traff...       Virginia Beach, VA   \n4  'The Eazy Cadet' is an online resource centre ...  England, United Kingdom   \n\n                                                text language  \\\n0  @johnmorgan726 #ContainerShip + Clouds 📸 🥰 🔝🔝🔝...       en   \n1  Just caught the MSC Ludovica passing through T...       en   \n2  Silverstream air bubble tech for 16,000 TEU co...       en   \n3  The HSL NIKE, IMO:9301457 en route to New York...       en   \n4  Silverstream air bubble tech for 16,000 TEU co...       en   \n\n                                hashtags  \\\n0                        [ContainerShip]   \n1              [shipping, containership]   \n2                                   None   \n3  [HSLNike, ContainerShip, ShipsInPics]   \n4                                   None   \n\n                                           media_url  \\\n0  [https://pbs.twimg.com/tweet_video_thumb/FOzeP...   \n1  [https://pbs.twimg.com/media/FOu6bsWWQAY3HpF.jpg]   \n2  [https://pbs.twimg.com/media/FOrz4vMVEAIh0Ik.jpg]   \n3  [https://pbs.twimg.com/media/FOjS1FAXsAMl-cl.jpg]   \n4  [https://pbs.twimg.com/media/FOiFGQzVsAIXtRV.jpg]   \n\n                                               place  \n0                                               None  \n1                                               None  \n2                                               None  \n3  Place(_api=<tweepy.api.API object at 0x0000025...  \n4                                               None  ",
      "text/html": "<div>\n<style scoped>\n    .dataframe tbody tr th:only-of-type {\n        vertical-align: middle;\n    }\n\n    .dataframe tbody tr th {\n        vertical-align: top;\n    }\n\n    .dataframe thead th {\n        text-align: right;\n    }\n</style>\n<table border=\"1\" class=\"dataframe\">\n  <thead>\n    <tr style=\"text-align: right;\">\n      <th></th>\n      <th>created_at</th>\n      <th>user_name</th>\n      <th>description</th>\n      <th>user_location</th>\n      <th>text</th>\n      <th>language</th>\n      <th>hashtags</th>\n      <th>media_url</th>\n      <th>place</th>\n    </tr>\n  </thead>\n  <tbody>\n    <tr>\n      <th>0</th>\n      <td>2022-03-26 20:58:32+00:00</td>\n      <td>Miguel_Egea</td>\n      <td>Segunda estrella a la derecha y todo recto has...</td>\n      <td>Cartagena</td>\n      <td>@johnmorgan726 #ContainerShip + Clouds 📸 🥰 🔝🔝🔝...</td>\n      <td>en</td>\n      <td>[ContainerShip]</td>\n      <td>[https://pbs.twimg.com/tweet_video_thumb/FOzeP...</td>\n      <td>None</td>\n    </tr>\n    <tr>\n      <th>1</th>\n      <td>2022-03-25 23:43:35+00:00</td>\n      <td>JoshSearlesWx</td>\n      <td>Meteorologist woking in global shipping operat...</td>\n      <td>New York, USA</td>\n      <td>Just caught the MSC Ludovica passing through T...</td>\n      <td>en</td>\n      <td>[shipping, containership]</td>\n      <td>[https://pbs.twimg.com/media/FOu6bsWWQAY3HpF.jpg]</td>\n      <td>None</td>\n    </tr>\n    <tr>\n      <th>2</th>\n      <td>2022-03-25 09:16:06+00:00</td>\n      <td>albertpallares</td>\n      <td>Professional especialitzat en el Transport Mar...</td>\n      <td>Travelling a lot</td>\n      <td>Silverstream air bubble tech for 16,000 TEU co...</td>\n      <td>en</td>\n      <td>None</td>\n      <td>[https://pbs.twimg.com/media/FOrz4vMVEAIh0Ik.jpg]</td>\n      <td>None</td>\n    </tr>\n    <tr>\n      <th>3</th>\n      <td>2022-03-23 17:34:43+00:00</td>\n      <td>johnmorgan726</td>\n      <td>I enjoy HAM radio, fishing, and maritime traff...</td>\n      <td>Virginia Beach, VA</td>\n      <td>The HSL NIKE, IMO:9301457 en route to New York...</td>\n      <td>en</td>\n      <td>[HSLNike, ContainerShip, ShipsInPics]</td>\n      <td>[https://pbs.twimg.com/media/FOjS1FAXsAMl-cl.jpg]</td>\n      <td>Place(_api=&lt;tweepy.api.API object at 0x0000025...</td>\n    </tr>\n    <tr>\n      <th>4</th>\n      <td>2022-03-23 11:55:06+00:00</td>\n      <td>EazyCadet</td>\n      <td>'The Eazy Cadet' is an online resource centre ...</td>\n      <td>England, United Kingdom</td>\n      <td>Silverstream air bubble tech for 16,000 TEU co...</td>\n      <td>en</td>\n      <td>None</td>\n      <td>[https://pbs.twimg.com/media/FOiFGQzVsAIXtRV.jpg]</td>\n      <td>None</td>\n    </tr>\n  </tbody>\n</table>\n</div>"
     },
     "execution_count": 37,
     "metadata": {},
     "output_type": "execute_result"
    }
   ],
   "source": [
    "# Use getQueryTweets function (search_query = 'containership', count = 500)\n",
    "query2 = getQueryTweets('containership -filter:retweets', 500) # -filter:retweets excludes RT from query\n",
    "\n",
    "# show total number of tweets fetched\n",
    "print(\"Total Tweets fetched:\", len(query2))\n",
    "\n",
    "# show the dataframe\n",
    "query2.head()"
   ],
   "metadata": {
    "collapsed": false,
    "pycharm": {
     "name": "#%%\n"
    }
   }
  },
  {
   "cell_type": "code",
   "execution_count": 81,
   "outputs": [],
   "source": [
    "# export dataframe to csv file\n",
    "query2.to_csv('C:/Users/tivon/projects/twitter_project/data/query_tweets_containership.csv', index = False)"
   ],
   "metadata": {
    "collapsed": false,
    "pycharm": {
     "name": "#%%\n"
    }
   }
  },
  {
   "cell_type": "markdown",
   "source": [
    "### query3\n",
    "search_query = navylookout"
   ],
   "metadata": {
    "collapsed": false,
    "pycharm": {
     "name": "#%% md\n"
    }
   }
  },
  {
   "cell_type": "code",
   "execution_count": 39,
   "outputs": [
    {
     "name": "stdout",
     "output_type": "stream",
     "text": [
      "Total Tweets fetched: 44\n"
     ]
    },
    {
     "data": {
      "text/plain": "                 created_at        user_name  \\\n0 2022-03-28 17:49:08+00:00           IainS9   \n1 2022-03-28 17:43:58+00:00      NavyLookout   \n2 2022-03-28 16:31:01+00:00  lenkabondarenka   \n3 2022-03-28 16:12:13+00:00      NavyLookout   \n4 2022-03-28 10:27:52+00:00  Shipsoftherive1   \n\n                                         description        user_location  \\\n0  We Were Warriors Once and Had Courage  (sayeth...             Scotland   \n1           Independent Royal Navy news and analysis                   UK   \n2                                     push the tempo              Украина   \n3           Independent Royal Navy news and analysis                   UK   \n4  Bringing you what I can when I can from ships ...  Birkenhead, England   \n\n                                                text language hashtags  \\\n0  @NavyLookout @hms_pembroke @SheilaLWeir - But ...       en     None   \n1  .@hms_pembroke outbound on the Clyde today.\\n\\...       en     None   \n2               @NavyLookout https://t.co/R3IlIY8qD8      und     None   \n3  Latest news commentary:\\n\\nAssessing Russia’s ...       en     None   \n4  @HMSQNLZ leaving on a very hazy Mersey today \\...       en     None   \n\n                                           media_url place  \n0  [https://pbs.twimg.com/media/FO9F_UsXoAAPluk.jpg]  None  \n1  [https://pbs.twimg.com/media/FO9ExbvXEAQtxTk.jpg]  None  \n2  [https://pbs.twimg.com/media/FO80LetXEAgTl6q.jpg]  None  \n3  [https://pbs.twimg.com/media/FO8t2R3XsAgiBiQ.jpg]  None  \n4  [https://pbs.twimg.com/media/FO7hFBeWQAIPwJa.jpg]  None  ",
      "text/html": "<div>\n<style scoped>\n    .dataframe tbody tr th:only-of-type {\n        vertical-align: middle;\n    }\n\n    .dataframe tbody tr th {\n        vertical-align: top;\n    }\n\n    .dataframe thead th {\n        text-align: right;\n    }\n</style>\n<table border=\"1\" class=\"dataframe\">\n  <thead>\n    <tr style=\"text-align: right;\">\n      <th></th>\n      <th>created_at</th>\n      <th>user_name</th>\n      <th>description</th>\n      <th>user_location</th>\n      <th>text</th>\n      <th>language</th>\n      <th>hashtags</th>\n      <th>media_url</th>\n      <th>place</th>\n    </tr>\n  </thead>\n  <tbody>\n    <tr>\n      <th>0</th>\n      <td>2022-03-28 17:49:08+00:00</td>\n      <td>IainS9</td>\n      <td>We Were Warriors Once and Had Courage  (sayeth...</td>\n      <td>Scotland</td>\n      <td>@NavyLookout @hms_pembroke @SheilaLWeir - But ...</td>\n      <td>en</td>\n      <td>None</td>\n      <td>[https://pbs.twimg.com/media/FO9F_UsXoAAPluk.jpg]</td>\n      <td>None</td>\n    </tr>\n    <tr>\n      <th>1</th>\n      <td>2022-03-28 17:43:58+00:00</td>\n      <td>NavyLookout</td>\n      <td>Independent Royal Navy news and analysis</td>\n      <td>UK</td>\n      <td>.@hms_pembroke outbound on the Clyde today.\\n\\...</td>\n      <td>en</td>\n      <td>None</td>\n      <td>[https://pbs.twimg.com/media/FO9ExbvXEAQtxTk.jpg]</td>\n      <td>None</td>\n    </tr>\n    <tr>\n      <th>2</th>\n      <td>2022-03-28 16:31:01+00:00</td>\n      <td>lenkabondarenka</td>\n      <td>push the tempo</td>\n      <td>Украина</td>\n      <td>@NavyLookout https://t.co/R3IlIY8qD8</td>\n      <td>und</td>\n      <td>None</td>\n      <td>[https://pbs.twimg.com/media/FO80LetXEAgTl6q.jpg]</td>\n      <td>None</td>\n    </tr>\n    <tr>\n      <th>3</th>\n      <td>2022-03-28 16:12:13+00:00</td>\n      <td>NavyLookout</td>\n      <td>Independent Royal Navy news and analysis</td>\n      <td>UK</td>\n      <td>Latest news commentary:\\n\\nAssessing Russia’s ...</td>\n      <td>en</td>\n      <td>None</td>\n      <td>[https://pbs.twimg.com/media/FO8t2R3XsAgiBiQ.jpg]</td>\n      <td>None</td>\n    </tr>\n    <tr>\n      <th>4</th>\n      <td>2022-03-28 10:27:52+00:00</td>\n      <td>Shipsoftherive1</td>\n      <td>Bringing you what I can when I can from ships ...</td>\n      <td>Birkenhead, England</td>\n      <td>@HMSQNLZ leaving on a very hazy Mersey today \\...</td>\n      <td>en</td>\n      <td>None</td>\n      <td>[https://pbs.twimg.com/media/FO7hFBeWQAIPwJa.jpg]</td>\n      <td>None</td>\n    </tr>\n  </tbody>\n</table>\n</div>"
     },
     "execution_count": 39,
     "metadata": {},
     "output_type": "execute_result"
    }
   ],
   "source": [
    "# Use getQueryTweets function (search_query = 'navylookout', count = 500)\n",
    "query3 = getQueryTweets('navylookout -filter:retweets', 500) # -filter:retweets excludes RT from query\n",
    "\n",
    "# show total number of tweets fetched\n",
    "print(\"Total Tweets fetched:\", len(query3))\n",
    "\n",
    "# show the dataframe\n",
    "query3.head()"
   ],
   "metadata": {
    "collapsed": false,
    "pycharm": {
     "name": "#%%\n"
    }
   }
  },
  {
   "cell_type": "code",
   "execution_count": 82,
   "outputs": [],
   "source": [
    "# export dataframe to csv file\n",
    "query3.to_csv('C:/Users/tivon/projects/twitter_project/data/query_tweets_navylookout.csv', index = False)"
   ],
   "metadata": {
    "collapsed": false,
    "pycharm": {
     "name": "#%%\n"
    }
   }
  }
 ],
 "metadata": {
  "kernelspec": {
   "display_name": "Python 3",
   "language": "python",
   "name": "python3"
  },
  "language_info": {
   "codemirror_mode": {
    "name": "ipython",
    "version": 2
   },
   "file_extension": ".py",
   "mimetype": "text/x-python",
   "name": "python",
   "nbconvert_exporter": "python",
   "pygments_lexer": "ipython2",
   "version": "2.7.6"
  }
 },
 "nbformat": 4,
 "nbformat_minor": 0
}